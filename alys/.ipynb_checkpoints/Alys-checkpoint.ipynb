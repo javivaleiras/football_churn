{
 "cells": [
  {
   "cell_type": "code",
   "execution_count": 1,
   "metadata": {},
   "outputs": [],
   "source": [
    "import pandas as pd\n",
    "import numpy as np\n",
    "import seaborn as sns"
   ]
  },
  {
   "cell_type": "code",
   "execution_count": 14,
   "metadata": {},
   "outputs": [],
   "source": [
    "stats = pd.read_csv(\"../data/players_stats.csv\") # player stats\n",
    "tl = pd.read_csv(\"../data/primera-division.csv\") # Transfer la liga\n",
    "tp = pd.read_csv(\"../data/premier-league.csv\") # transfers premier\n",
    "\n"
   ]
  },
  {
   "cell_type": "markdown",
   "metadata": {},
   "source": [
    "Check if the have the same strcuture"
   ]
  },
  {
   "cell_type": "code",
   "execution_count": 22,
   "metadata": {},
   "outputs": [
    {
     "name": "stdout",
     "output_type": "stream",
     "text": [
      "Transfers la liga shape: (17255, 12)\n",
      "Transfers premier shape: (23498, 12)\n"
     ]
    }
   ],
   "source": [
    "print(\"Transfers la liga shape:\" , tl.shape)\n",
    "print(\"Transfers premier shape:\" , tp.shape)"
   ]
  },
  {
   "cell_type": "code",
   "execution_count": 24,
   "metadata": {},
   "outputs": [
    {
     "name": "stdout",
     "output_type": "stream",
     "text": [
      "La liga columns Index(['club_name', 'player_name', 'age', 'position', 'club_involved_name',\n",
      "       'fee', 'transfer_movement', 'transfer_period', 'fee_cleaned',\n",
      "       'league_name', 'year', 'season'],\n",
      "      dtype='object')\n",
      "premier columns Index(['club_name', 'player_name', 'age', 'position', 'club_involved_name',\n",
      "       'fee', 'transfer_movement', 'transfer_period', 'fee_cleaned',\n",
      "       'league_name', 'year', 'season'],\n",
      "      dtype='object')\n"
     ]
    }
   ],
   "source": [
    "print(\"La liga columns\",tl.columns)\n",
    "print(\"premier columns\",tp.columns)"
   ]
  },
  {
   "cell_type": "code",
   "execution_count": 32,
   "metadata": {},
   "outputs": [],
   "source": [
    "transf = pd.concat([tl,tp]) # merge both leagues transfers"
   ]
  },
  {
   "cell_type": "code",
   "execution_count": 33,
   "metadata": {},
   "outputs": [
    {
     "name": "stdout",
     "output_type": "stream",
     "text": [
      "<class 'pandas.core.frame.DataFrame'>\n",
      "Int64Index: 40753 entries, 0 to 23497\n",
      "Data columns (total 12 columns):\n",
      " #   Column              Non-Null Count  Dtype  \n",
      "---  ------              --------------  -----  \n",
      " 0   club_name           40753 non-null  object \n",
      " 1   player_name         40753 non-null  object \n",
      " 2   age                 40734 non-null  float64\n",
      " 3   position            40753 non-null  object \n",
      " 4   club_involved_name  40753 non-null  object \n",
      " 5   fee                 40740 non-null  object \n",
      " 6   transfer_movement   40753 non-null  object \n",
      " 7   transfer_period     40753 non-null  object \n",
      " 8   fee_cleaned         15809 non-null  float64\n",
      " 9   league_name         40753 non-null  object \n",
      " 10  year                40753 non-null  int64  \n",
      " 11  season              40753 non-null  object \n",
      "dtypes: float64(2), int64(1), object(9)\n",
      "memory usage: 4.0+ MB\n"
     ]
    }
   ],
   "source": [
    "transf.info()"
   ]
  },
  {
   "cell_type": "code",
   "execution_count": 36,
   "metadata": {},
   "outputs": [
    {
     "name": "stdout",
     "output_type": "stream",
     "text": [
      "<class 'pandas.core.frame.DataFrame'>\n",
      "RangeIndex: 14331 entries, 0 to 14330\n",
      "Data columns (total 35 columns):\n",
      " #   Column          Non-Null Count  Dtype  \n",
      "---  ------          --------------  -----  \n",
      " 0   Unnamed: 0      14331 non-null  int64  \n",
      " 1   name            14331 non-null  object \n",
      " 2   club            14331 non-null  object \n",
      " 3   position        14331 non-null  object \n",
      " 4   apps            14331 non-null  object \n",
      " 5   mins            14331 non-null  int64  \n",
      " 6   goals           14331 non-null  object \n",
      " 7   assists         14331 non-null  object \n",
      " 8   yel             14331 non-null  object \n",
      " 9   red             14331 non-null  object \n",
      " 10  shots           14331 non-null  object \n",
      " 11  ps%             14331 non-null  object \n",
      " 12  aerials_won     14331 non-null  object \n",
      " 13  motm            14331 non-null  object \n",
      " 14  rating          14331 non-null  float64\n",
      " 15  tackles         14311 non-null  object \n",
      " 16  interceptions   14311 non-null  object \n",
      " 17  fouls           14311 non-null  object \n",
      " 18  offsides_won    14311 non-null  object \n",
      " 19  clearances      14311 non-null  object \n",
      " 20  dribbled        14311 non-null  object \n",
      " 21  blocks          14311 non-null  object \n",
      " 22  own_goals       14311 non-null  object \n",
      " 23  key_passes      14311 non-null  object \n",
      " 24  dribblings      14311 non-null  object \n",
      " 25  fouled          14311 non-null  object \n",
      " 26  offsides        14311 non-null  object \n",
      " 27  dispossed       14311 non-null  object \n",
      " 28  bad_controls    14311 non-null  object \n",
      " 29  avg_passes      14301 non-null  object \n",
      " 30  crosses         14301 non-null  object \n",
      " 31  long_passes     14301 non-null  object \n",
      " 32  through_passes  14301 non-null  object \n",
      " 33  league          14331 non-null  object \n",
      " 34  season          14331 non-null  object \n",
      "dtypes: float64(1), int64(2), object(32)\n",
      "memory usage: 3.8+ MB\n"
     ]
    }
   ],
   "source": [
    "stats.info()"
   ]
  },
  {
   "cell_type": "code",
   "execution_count": 34,
   "metadata": {},
   "outputs": [
    {
     "data": {
      "text/html": [
       "<div>\n",
       "<style scoped>\n",
       "    .dataframe tbody tr th:only-of-type {\n",
       "        vertical-align: middle;\n",
       "    }\n",
       "\n",
       "    .dataframe tbody tr th {\n",
       "        vertical-align: top;\n",
       "    }\n",
       "\n",
       "    .dataframe thead th {\n",
       "        text-align: right;\n",
       "    }\n",
       "</style>\n",
       "<table border=\"1\" class=\"dataframe\">\n",
       "  <thead>\n",
       "    <tr style=\"text-align: right;\">\n",
       "      <th></th>\n",
       "      <th>club_name</th>\n",
       "      <th>player_name</th>\n",
       "      <th>age</th>\n",
       "      <th>position</th>\n",
       "      <th>club_involved_name</th>\n",
       "      <th>fee</th>\n",
       "      <th>transfer_movement</th>\n",
       "      <th>transfer_period</th>\n",
       "      <th>fee_cleaned</th>\n",
       "      <th>league_name</th>\n",
       "      <th>year</th>\n",
       "      <th>season</th>\n",
       "    </tr>\n",
       "  </thead>\n",
       "  <tbody>\n",
       "    <tr>\n",
       "      <th>count</th>\n",
       "      <td>40753</td>\n",
       "      <td>40753</td>\n",
       "      <td>40734.000000</td>\n",
       "      <td>40753</td>\n",
       "      <td>40753</td>\n",
       "      <td>40740</td>\n",
       "      <td>40753</td>\n",
       "      <td>40753</td>\n",
       "      <td>15809.000000</td>\n",
       "      <td>40753</td>\n",
       "      <td>40753.000000</td>\n",
       "      <td>40753</td>\n",
       "    </tr>\n",
       "    <tr>\n",
       "      <th>unique</th>\n",
       "      <td>98</td>\n",
       "      <td>9947</td>\n",
       "      <td>NaN</td>\n",
       "      <td>17</td>\n",
       "      <td>1885</td>\n",
       "      <td>2510</td>\n",
       "      <td>2</td>\n",
       "      <td>3</td>\n",
       "      <td>NaN</td>\n",
       "      <td>2</td>\n",
       "      <td>NaN</td>\n",
       "      <td>31</td>\n",
       "    </tr>\n",
       "    <tr>\n",
       "      <th>top</th>\n",
       "      <td>Chelsea FC</td>\n",
       "      <td>Luis García</td>\n",
       "      <td>NaN</td>\n",
       "      <td>Centre-Forward</td>\n",
       "      <td>Without Club</td>\n",
       "      <td>loan transfer</td>\n",
       "      <td>in</td>\n",
       "      <td>Summer</td>\n",
       "      <td>NaN</td>\n",
       "      <td>Premier League</td>\n",
       "      <td>NaN</td>\n",
       "      <td>2014/2015</td>\n",
       "    </tr>\n",
       "    <tr>\n",
       "      <th>freq</th>\n",
       "      <td>1308</td>\n",
       "      <td>43</td>\n",
       "      <td>NaN</td>\n",
       "      <td>7941</td>\n",
       "      <td>598</td>\n",
       "      <td>8834</td>\n",
       "      <td>20570</td>\n",
       "      <td>29175</td>\n",
       "      <td>NaN</td>\n",
       "      <td>23498</td>\n",
       "      <td>NaN</td>\n",
       "      <td>1739</td>\n",
       "    </tr>\n",
       "    <tr>\n",
       "      <th>mean</th>\n",
       "      <td>NaN</td>\n",
       "      <td>NaN</td>\n",
       "      <td>24.627412</td>\n",
       "      <td>NaN</td>\n",
       "      <td>NaN</td>\n",
       "      <td>NaN</td>\n",
       "      <td>NaN</td>\n",
       "      <td>NaN</td>\n",
       "      <td>3.896699</td>\n",
       "      <td>NaN</td>\n",
       "      <td>2008.479155</td>\n",
       "      <td>NaN</td>\n",
       "    </tr>\n",
       "    <tr>\n",
       "      <th>std</th>\n",
       "      <td>NaN</td>\n",
       "      <td>NaN</td>\n",
       "      <td>4.510449</td>\n",
       "      <td>NaN</td>\n",
       "      <td>NaN</td>\n",
       "      <td>NaN</td>\n",
       "      <td>NaN</td>\n",
       "      <td>NaN</td>\n",
       "      <td>9.270154</td>\n",
       "      <td>NaN</td>\n",
       "      <td>8.277879</td>\n",
       "      <td>NaN</td>\n",
       "    </tr>\n",
       "    <tr>\n",
       "      <th>min</th>\n",
       "      <td>NaN</td>\n",
       "      <td>NaN</td>\n",
       "      <td>12.000000</td>\n",
       "      <td>NaN</td>\n",
       "      <td>NaN</td>\n",
       "      <td>NaN</td>\n",
       "      <td>NaN</td>\n",
       "      <td>NaN</td>\n",
       "      <td>0.000000</td>\n",
       "      <td>NaN</td>\n",
       "      <td>1992.000000</td>\n",
       "      <td>NaN</td>\n",
       "    </tr>\n",
       "    <tr>\n",
       "      <th>25%</th>\n",
       "      <td>NaN</td>\n",
       "      <td>NaN</td>\n",
       "      <td>21.000000</td>\n",
       "      <td>NaN</td>\n",
       "      <td>NaN</td>\n",
       "      <td>NaN</td>\n",
       "      <td>NaN</td>\n",
       "      <td>NaN</td>\n",
       "      <td>0.000000</td>\n",
       "      <td>NaN</td>\n",
       "      <td>2002.000000</td>\n",
       "      <td>NaN</td>\n",
       "    </tr>\n",
       "    <tr>\n",
       "      <th>50%</th>\n",
       "      <td>NaN</td>\n",
       "      <td>NaN</td>\n",
       "      <td>24.000000</td>\n",
       "      <td>NaN</td>\n",
       "      <td>NaN</td>\n",
       "      <td>NaN</td>\n",
       "      <td>NaN</td>\n",
       "      <td>NaN</td>\n",
       "      <td>0.500000</td>\n",
       "      <td>NaN</td>\n",
       "      <td>2009.000000</td>\n",
       "      <td>NaN</td>\n",
       "    </tr>\n",
       "    <tr>\n",
       "      <th>75%</th>\n",
       "      <td>NaN</td>\n",
       "      <td>NaN</td>\n",
       "      <td>28.000000</td>\n",
       "      <td>NaN</td>\n",
       "      <td>NaN</td>\n",
       "      <td>NaN</td>\n",
       "      <td>NaN</td>\n",
       "      <td>NaN</td>\n",
       "      <td>3.600000</td>\n",
       "      <td>NaN</td>\n",
       "      <td>2015.000000</td>\n",
       "      <td>NaN</td>\n",
       "    </tr>\n",
       "    <tr>\n",
       "      <th>max</th>\n",
       "      <td>NaN</td>\n",
       "      <td>NaN</td>\n",
       "      <td>47.000000</td>\n",
       "      <td>NaN</td>\n",
       "      <td>NaN</td>\n",
       "      <td>NaN</td>\n",
       "      <td>NaN</td>\n",
       "      <td>NaN</td>\n",
       "      <td>222.000000</td>\n",
       "      <td>NaN</td>\n",
       "      <td>2022.000000</td>\n",
       "      <td>NaN</td>\n",
       "    </tr>\n",
       "  </tbody>\n",
       "</table>\n",
       "</div>"
      ],
      "text/plain": [
       "         club_name  player_name           age        position  \\\n",
       "count        40753        40753  40734.000000           40753   \n",
       "unique          98         9947           NaN              17   \n",
       "top     Chelsea FC  Luis García           NaN  Centre-Forward   \n",
       "freq          1308           43           NaN            7941   \n",
       "mean           NaN          NaN     24.627412             NaN   \n",
       "std            NaN          NaN      4.510449             NaN   \n",
       "min            NaN          NaN     12.000000             NaN   \n",
       "25%            NaN          NaN     21.000000             NaN   \n",
       "50%            NaN          NaN     24.000000             NaN   \n",
       "75%            NaN          NaN     28.000000             NaN   \n",
       "max            NaN          NaN     47.000000             NaN   \n",
       "\n",
       "       club_involved_name            fee transfer_movement transfer_period  \\\n",
       "count               40753          40740             40753           40753   \n",
       "unique               1885           2510                 2               3   \n",
       "top          Without Club  loan transfer                in          Summer   \n",
       "freq                  598           8834             20570           29175   \n",
       "mean                  NaN            NaN               NaN             NaN   \n",
       "std                   NaN            NaN               NaN             NaN   \n",
       "min                   NaN            NaN               NaN             NaN   \n",
       "25%                   NaN            NaN               NaN             NaN   \n",
       "50%                   NaN            NaN               NaN             NaN   \n",
       "75%                   NaN            NaN               NaN             NaN   \n",
       "max                   NaN            NaN               NaN             NaN   \n",
       "\n",
       "         fee_cleaned     league_name          year     season  \n",
       "count   15809.000000           40753  40753.000000      40753  \n",
       "unique           NaN               2           NaN         31  \n",
       "top              NaN  Premier League           NaN  2014/2015  \n",
       "freq             NaN           23498           NaN       1739  \n",
       "mean        3.896699             NaN   2008.479155        NaN  \n",
       "std         9.270154             NaN      8.277879        NaN  \n",
       "min         0.000000             NaN   1992.000000        NaN  \n",
       "25%         0.000000             NaN   2002.000000        NaN  \n",
       "50%         0.500000             NaN   2009.000000        NaN  \n",
       "75%         3.600000             NaN   2015.000000        NaN  \n",
       "max       222.000000             NaN   2022.000000        NaN  "
      ]
     },
     "execution_count": 34,
     "metadata": {},
     "output_type": "execute_result"
    }
   ],
   "source": [
    "transf.describe(include=\"all\")"
   ]
  },
  {
   "cell_type": "markdown",
   "metadata": {},
   "source": [
    "We want to look up for keys in order to make a left join between stats and transfers in order to add a column that indicates if the player has abandoned the team at the end of the season.\n",
    "\n",
    "We will check club names, player names, season and league"
   ]
  },
  {
   "cell_type": "markdown",
   "metadata": {},
   "source": [
    "### Club names"
   ]
  },
  {
   "cell_type": "markdown",
   "metadata": {},
   "source": [
    "Note: We just have stats in sesaons 2009/2010 and above la liga"
   ]
  },
  {
   "cell_type": "code",
   "execution_count": 49,
   "metadata": {},
   "outputs": [],
   "source": [
    "transf = transf[transf['season'].isin(['2009/2010','2010/2011','2011/2012','2012/2013','2013/2014','2014/2015','2015/2016','2016/2017','2017/2018','2018/2019','2019/2020','2020/2021','2021/2022'])]"
   ]
  },
  {
   "cell_type": "code",
   "execution_count": 60,
   "metadata": {},
   "outputs": [],
   "source": [
    "clubs_transf = transf['club_name'].unique()\n",
    "clubs_stats = stats['club'].unique()"
   ]
  },
  {
   "cell_type": "code",
   "execution_count": 70,
   "metadata": {},
   "outputs": [
    {
     "name": "stdout",
     "output_type": "stream",
     "text": [
      "unique clubs transf 75\n",
      "unique clubs stats 75\n"
     ]
    }
   ],
   "source": [
    "print(\"unique clubs transf\",len(clubs_transf))\n",
    "print(\"unique clubs stats\",len(clubs_stats))"
   ]
  },
  {
   "cell_type": "code",
   "execution_count": 79,
   "metadata": {},
   "outputs": [
    {
     "name": "stdout",
     "output_type": "stream",
     "text": [
      "['Almeria' 'Arsenal' 'Atletico' 'Barcelona' 'Birmingham' 'Blackburn'\n",
      " 'Blackpool' 'Bolton' 'Bournemouth' 'Brentford' 'Brighton' 'Burnley'\n",
      " 'Cadiz' 'Cardiff' 'Celta Vigo' 'Chelsea' 'Cordoba' 'Deportivo'\n",
      " 'Deportivo Alaves' 'Eibar' 'Elche' 'Espanyol' 'Everton' 'Fulham' 'Getafe'\n",
      " 'Girona' 'Granada' 'Hercules' 'Huddersfield' 'Hull' 'Las Palmas' 'Leeds'\n",
      " 'Leganes' 'Leicester' 'Levante' 'Liverpool' 'Malaga' 'Mallorca'\n",
      " 'Man City' 'Man Utd' 'Middlesbrough' 'Newcastle' 'Norwich' 'Osasuna'\n",
      " 'Portsmouth' 'QPR' 'Reading' 'Real Betis' 'Real Valladolid' 'Sevilla'\n",
      " 'Sheff Utd' 'Southampton' 'Sporting Gijon' 'Stoke' 'Sunderland' 'Swansea'\n",
      " 'Tenerife' 'Tottenham' 'Valencia' 'Villarreal' 'Watford' 'West Brom'\n",
      " 'West Ham' 'Wigan' 'Wolves' 'Xerez']\n",
      "66\n"
     ]
    }
   ],
   "source": [
    "print(np.setdiff1d(clubs_stats,clubs_transf))\n",
    "print(len(np.setdiff1d(clubs_stats,clubs_transf)))"
   ]
  },
  {
   "cell_type": "code",
   "execution_count": 83,
   "metadata": {},
   "outputs": [
    {
     "data": {
      "text/plain": [
       "array(['Racing Santander', 'Getafe CF', 'UD Almería', 'Sporting Gijón',\n",
       "       'Málaga CF', 'Villarreal CF', 'Valencia CF',\n",
       "       'Deportivo de La Coruña', 'RCD Espanyol Barcelona', 'CD Tenerife',\n",
       "       'Atlético de Madrid', 'Athletic Bilbao', 'Real Madrid',\n",
       "       'Sevilla FC', 'Real Valladolid CF', 'CA Osasuna', 'RCD Mallorca',\n",
       "       'Real Zaragoza', 'Xerez CD', 'FC Barcelona', 'Hércules CF',\n",
       "       'Levante UD', 'Real Sociedad', 'Granada CF', 'Rayo Vallecano',\n",
       "       'Real Betis Balompié', 'Celta de Vigo', 'Elche CF', 'SD Eibar',\n",
       "       'Córdoba CF', 'UD Las Palmas', 'Deportivo Alavés', 'CD Leganés',\n",
       "       'Girona FC', 'SD Huesca', 'Cádiz CF', 'Manchester United',\n",
       "       'Liverpool FC', 'Chelsea FC', 'Arsenal FC', 'Everton FC',\n",
       "       'Aston Villa', 'Fulham FC', 'Tottenham Hotspur', 'West Ham United',\n",
       "       'Manchester City', 'Wigan Athletic', 'Stoke City',\n",
       "       'Bolton Wanderers', 'Portsmouth FC', 'Blackburn Rovers',\n",
       "       'Sunderland AFC', 'Hull City', 'Wolverhampton Wanderers',\n",
       "       'Birmingham City', 'Burnley FC', 'Blackpool FC',\n",
       "       'West Bromwich Albion', 'Newcastle United', 'Queens Park Rangers',\n",
       "       'Norwich City', 'Swansea City', 'Southampton FC', 'Reading FC',\n",
       "       'Cardiff City', 'Crystal Palace', 'Leicester City',\n",
       "       'AFC Bournemouth', 'Watford FC', 'Middlesbrough FC',\n",
       "       'Brighton & Hove Albion', 'Huddersfield Town', 'Sheffield United',\n",
       "       'Leeds United', 'Brentford FC'], dtype=object)"
      ]
     },
     "execution_count": 83,
     "metadata": {},
     "output_type": "execute_result"
    }
   ],
   "source": [
    "clubs_transf"
   ]
  },
  {
   "cell_type": "markdown",
   "metadata": {},
   "source": [
    "It is easy to see what is going on, the club names in the transf dataframe have the complete name and the ones in the stats don´t. We will shorten them and remove the special characters"
   ]
  },
  {
   "cell_type": "code",
   "execution_count": 90,
   "metadata": {},
   "outputs": [
    {
     "ename": "IndexError",
     "evalue": "only integers, slices (`:`), ellipsis (`...`), numpy.newaxis (`None`) and integer or boolean arrays are valid indices",
     "output_type": "error",
     "traceback": [
      "\u001b[1;31m---------------------------------------------------------------------------\u001b[0m",
      "\u001b[1;31mIndexError\u001b[0m                                Traceback (most recent call last)",
      "\u001b[1;32m<ipython-input-90-541bee5b34b2>\u001b[0m in \u001b[0;36m<module>\u001b[1;34m\u001b[0m\n\u001b[1;32m----> 1\u001b[1;33m \u001b[0mclubs_transf\u001b[0m\u001b[1;33m[\u001b[0m\u001b[1;34m'club_name'\u001b[0m\u001b[1;33m]\u001b[0m \u001b[1;33m=\u001b[0m \u001b[0mclubs_transf\u001b[0m\u001b[1;33m[\u001b[0m\u001b[1;34m'club_name'\u001b[0m\u001b[1;33m]\u001b[0m\u001b[1;33m.\u001b[0m\u001b[0mastype\u001b[0m\u001b[1;33m(\u001b[0m\u001b[0mstr\u001b[0m\u001b[1;33m)\u001b[0m\u001b[1;33m\u001b[0m\u001b[1;33m\u001b[0m\u001b[0m\n\u001b[0m",
      "\u001b[1;31mIndexError\u001b[0m: only integers, slices (`:`), ellipsis (`...`), numpy.newaxis (`None`) and integer or boolean arrays are valid indices"
     ]
    }
   ],
   "source": [
    "clubs_transf['club_name'] = clubs_transf['club_name'].astype(str)"
   ]
  },
  {
   "cell_type": "code",
   "execution_count": 104,
   "metadata": {},
   "outputs": [
    {
     "name": "stderr",
     "output_type": "stream",
     "text": [
      "<ipython-input-104-70f099691d6f>:1: SettingWithCopyWarning: \n",
      "A value is trying to be set on a copy of a slice from a DataFrame.\n",
      "Try using .loc[row_indexer,col_indexer] = value instead\n",
      "\n",
      "See the caveats in the documentation: https://pandas.pydata.org/pandas-docs/stable/user_guide/indexing.html#returning-a-view-versus-a-copy\n",
      "  transf['clubs_short'] = transf['club_name'].apply(lambda x: x.strip().replace('CF','').replace('UD','')\n"
     ]
    }
   ],
   "source": [
    "transf['clubs_short'] = transf['club_name'].apply(lambda x: x.strip().replace('CF','').replace('UD','')\n",
    "                                                             .replace('CD','').replace('RCD','').replace('CA','')\n",
    "                                                              .replace('SD','').replace('FC','').replace('á','a')\n",
    "                                                              .replace('é','e').replace('í','i').replace('ó','o')\n",
    "                                                              .replace('ú','u').replace('City','')\n",
    "                                                              .replace('United','Utd').replace('Town','').strip()\n",
    "                                                             ) \n",
    "    "
   ]
  },
  {
   "cell_type": "code",
   "execution_count": 105,
   "metadata": {},
   "outputs": [
    {
     "data": {
      "text/plain": [
       "array(['Racing Santander', 'Getafe', 'Almeria', 'Sporting Gijon',\n",
       "       'Malaga', 'Villarreal', 'Valencia', 'Deportivo de La Coruña',\n",
       "       'R Espanyol Barcelona', 'Tenerife', 'Atletico de Madrid',\n",
       "       'Athletic Bilbao', 'Real Madrid', 'Sevilla', 'Real Valladolid',\n",
       "       'Osasuna', 'R Mallorca', 'Real Zaragoza', 'Xerez', 'Barcelona',\n",
       "       'Hercules', 'Levante', 'Real Sociedad', 'Granada',\n",
       "       'Rayo Vallecano', 'Real Betis Balompie', 'Celta de Vigo', 'Elche',\n",
       "       'Eibar', 'Cordoba', 'Las Palmas', 'Deportivo Alaves', 'Leganes',\n",
       "       'Girona', 'Huesca', 'Cadiz', 'Manchester Utd', 'Liverpool',\n",
       "       'Chelsea', 'Arsenal', 'Everton', 'Aston Villa', 'Fulham',\n",
       "       'Tottenham Hotspur', 'West Ham Utd', 'Manchester',\n",
       "       'Wigan Athletic', 'Stoke', 'Bolton Wanderers', 'Portsmouth',\n",
       "       'Blackburn Rovers', 'Sunderland A', 'Hull',\n",
       "       'Wolverhampton Wanderers', 'Birmingham', 'Burnley', 'Blackpool',\n",
       "       'West Bromwich Albion', 'Newcastle Utd', 'Queens Park Rangers',\n",
       "       'Norwich', 'Swansea', 'Southampton', 'Reading', 'Cardiff',\n",
       "       'Crystal Palace', 'Leicester', 'A Bournemouth', 'Watford',\n",
       "       'Middlesbrough', 'Brighton & Hove Albion', 'Huddersfield',\n",
       "       'Sheffield Utd', 'Leeds Utd', 'Brentford'], dtype=object)"
      ]
     },
     "execution_count": 105,
     "metadata": {},
     "output_type": "execute_result"
    }
   ],
   "source": [
    "clubs_transf = transf['clubs_short'].unique() \n",
    "clubs_transf"
   ]
  },
  {
   "cell_type": "code",
   "execution_count": 106,
   "metadata": {},
   "outputs": [
    {
     "name": "stdout",
     "output_type": "stream",
     "text": [
      "['Atletico' 'Blackburn' 'Bolton' 'Bournemouth' 'Brighton' 'Celta Vigo'\n",
      " 'Deportivo' 'Espanyol' 'Leeds' 'Mallorca' 'Man City' 'Man Utd'\n",
      " 'Newcastle' 'QPR' 'Real Betis' 'SD Huesca' 'Sheff Utd' 'Sunderland'\n",
      " 'Tottenham' 'West Brom' 'West Ham' 'Wigan' 'Wolves']\n",
      "23\n"
     ]
    }
   ],
   "source": [
    "print(np.setdiff1d(clubs_stats,clubs_transf))\n",
    "print(len(np.setdiff1d(clubs_stats,clubs_transf)))"
   ]
  },
  {
   "cell_type": "markdown",
   "metadata": {},
   "source": [
    "Still not good enough. We will create a dictionary for the remaining clubs"
   ]
  },
  {
   "cell_type": "code",
   "execution_count": 117,
   "metadata": {},
   "outputs": [],
   "source": [
    "clubs = {\n",
    "    \"Atletico de Madrid\":\"Atletico\",\n",
    "    \"Blackburn Rovers\":\"Blackburn\",\n",
    "    \"Bolton Wanderers\":\"Bolton\",\n",
    "    \"A Bournemouth\":\"Bournemouth\",\n",
    "    \"Brighton & Hove Albion\":\"Brighton\",\n",
    "    \"Celta de Vigo\":\"Celta Vigo\",\n",
    "    \"Deportivo de La Coruña\":\"Deportivo\",\n",
    "    \"R Espanyol Barcelona\":\"Espanyol\",\n",
    "    \"Leeds Utd\":\"Leeds\",\n",
    "    \"R Mallorca\":\"Mallorca\",\n",
    "    \"Manchester\":\"Man City\",\n",
    "    \"Manchester Utd\":\"Man Utd\",\n",
    "    \"Newcastle Utd\":\"Newcastle\",\n",
    "    \"Queens Park Rangers\":\"QPR\",\n",
    "    \"Real Betis Balompie\":\"Real Betis\",\n",
    "    \"Huesca\":\"SD Huesca\",\n",
    "    \"Sheffield Utd\":\"Sheff Utd\",\n",
    "    \"Sunderland A\":\"Sunderland\",\n",
    "    \"Tottenham Hotspur\":\"Tottenham\",\n",
    "    \"West Bromwich Albion\":\"West Brom\",\n",
    "    \"West Ham Utd\":\"West Ham\",\n",
    "    \"Wigan Athletic\":\"Wigan\",\n",
    "    \"Wolverhampton Wanderers\":\"Wolves\"\n",
    "    \n",
    "}"
   ]
  },
  {
   "cell_type": "code",
   "execution_count": 119,
   "metadata": {},
   "outputs": [],
   "source": [
    "transf = transf.replace({'clubs_short':clubs} )"
   ]
  },
  {
   "cell_type": "code",
   "execution_count": 120,
   "metadata": {},
   "outputs": [
    {
     "name": "stdout",
     "output_type": "stream",
     "text": [
      "[]\n",
      "0\n"
     ]
    }
   ],
   "source": [
    "clubs_transf = transf['clubs_short'].unique() \n",
    "print(np.setdiff1d(clubs_stats,clubs_transf))\n",
    "print(len(np.setdiff1d(clubs_stats,clubs_transf)))"
   ]
  },
  {
   "cell_type": "markdown",
   "metadata": {},
   "source": [
    "### League"
   ]
  },
  {
   "cell_type": "code",
   "execution_count": 128,
   "metadata": {},
   "outputs": [
    {
     "data": {
      "text/plain": [
       "array(['Primera Division', 'Premier League'], dtype=object)"
      ]
     },
     "execution_count": 128,
     "metadata": {},
     "output_type": "execute_result"
    }
   ],
   "source": [
    "transf['league_name'].unique()"
   ]
  },
  {
   "cell_type": "code",
   "execution_count": 130,
   "metadata": {},
   "outputs": [
    {
     "data": {
      "text/plain": [
       "array(['LaLiga', 'Premier League'], dtype=object)"
      ]
     },
     "execution_count": 130,
     "metadata": {},
     "output_type": "execute_result"
    }
   ],
   "source": [
    "stats['league'].unique()"
   ]
  },
  {
   "cell_type": "markdown",
   "metadata": {},
   "source": [
    "Change league names in transf dataset"
   ]
  },
  {
   "cell_type": "code",
   "execution_count": 131,
   "metadata": {},
   "outputs": [],
   "source": [
    "transf['league_name'] = transf['league_name'].replace('Primera Division','LaLiga')"
   ]
  },
  {
   "cell_type": "markdown",
   "metadata": {},
   "source": [
    "### Player Names"
   ]
  },
  {
   "cell_type": "code",
   "execution_count": 123,
   "metadata": {},
   "outputs": [
    {
     "data": {
      "text/plain": [
       "7802           Álex Geijo\n",
       "7803        Marc Torrejón\n",
       "7804            Pape Diop\n",
       "7805         Manuel Arana\n",
       "7806          José Crespo\n",
       "7807        Nasief Morris\n",
       "7808          Luis García\n",
       "7809             Henrique\n",
       "7810                Xisco\n",
       "7811       Sergio Canales\n",
       "7812       Damián Ísmodes\n",
       "7813      Juanjo Expósito\n",
       "7814      Brian Sarmiento\n",
       "7815               Vitolo\n",
       "7816         Ebi Smolarek\n",
       "7817          Iván Bolado\n",
       "7818       Jonathan Valle\n",
       "7819       Daniel Szetela\n",
       "7820    Cristian Portilla\n",
       "7821         Iván Marcano\n",
       "Name: player_name, dtype: object"
      ]
     },
     "execution_count": 123,
     "metadata": {},
     "output_type": "execute_result"
    }
   ],
   "source": [
    "transf.player_name.head(20)"
   ]
  },
  {
   "cell_type": "code",
   "execution_count": 125,
   "metadata": {},
   "outputs": [
    {
     "data": {
      "text/plain": [
       "0             Lionel Messi\n",
       "1        Cristiano Ronaldo\n",
       "2          Gonzalo Higuaín\n",
       "3               Dani Alves\n",
       "4     Ruud van Nistelrooij\n",
       "5            Javi Martínez\n",
       "6             Sergio Ramos\n",
       "7                  Marcelo\n",
       "8                     Xavi\n",
       "9                Juan Cala\n",
       "10                   Chema\n",
       "11            Antonio Luna\n",
       "12                 Armando\n",
       "13             Xabi Alonso\n",
       "14                    Duda\n",
       "15             David Villa\n",
       "16      Zlatan Ibrahimovic\n",
       "17                    Pepe\n",
       "18            Luís Fabiano\n",
       "19              Pedro León\n",
       "Name: name, dtype: object"
      ]
     },
     "execution_count": 125,
     "metadata": {},
     "output_type": "execute_result"
    }
   ],
   "source": [
    "stats.name.head(20)"
   ]
  },
  {
   "cell_type": "markdown",
   "metadata": {},
   "source": [
    "Looks like they can have the same nomenclature"
   ]
  },
  {
   "cell_type": "code",
   "execution_count": 127,
   "metadata": {},
   "outputs": [
    {
     "data": {
      "text/html": [
       "<div>\n",
       "<style scoped>\n",
       "    .dataframe tbody tr th:only-of-type {\n",
       "        vertical-align: middle;\n",
       "    }\n",
       "\n",
       "    .dataframe tbody tr th {\n",
       "        vertical-align: top;\n",
       "    }\n",
       "\n",
       "    .dataframe thead th {\n",
       "        text-align: right;\n",
       "    }\n",
       "</style>\n",
       "<table border=\"1\" class=\"dataframe\">\n",
       "  <thead>\n",
       "    <tr style=\"text-align: right;\">\n",
       "      <th></th>\n",
       "      <th>club_name</th>\n",
       "      <th>player_name</th>\n",
       "      <th>age</th>\n",
       "      <th>position</th>\n",
       "      <th>club_involved_name</th>\n",
       "      <th>fee</th>\n",
       "      <th>transfer_movement</th>\n",
       "      <th>transfer_period</th>\n",
       "      <th>fee_cleaned</th>\n",
       "      <th>league_name</th>\n",
       "      <th>year</th>\n",
       "      <th>season</th>\n",
       "      <th>clubs_short</th>\n",
       "    </tr>\n",
       "  </thead>\n",
       "  <tbody>\n",
       "    <tr>\n",
       "      <th>9510</th>\n",
       "      <td>Athletic Bilbao</td>\n",
       "      <td>Javi Martínez</td>\n",
       "      <td>23.0</td>\n",
       "      <td>Defensive Midfield</td>\n",
       "      <td>Bayern Munich</td>\n",
       "      <td>€40.00m</td>\n",
       "      <td>out</td>\n",
       "      <td>Summer</td>\n",
       "      <td>40.0</td>\n",
       "      <td>Primera Division</td>\n",
       "      <td>2012</td>\n",
       "      <td>2012/2013</td>\n",
       "      <td>Athletic Bilbao</td>\n",
       "    </tr>\n",
       "    <tr>\n",
       "      <th>16308</th>\n",
       "      <td>CA Osasuna</td>\n",
       "      <td>Javi Martínez</td>\n",
       "      <td>21.0</td>\n",
       "      <td>Attacking Midfield</td>\n",
       "      <td>CA Osasuna Prom</td>\n",
       "      <td>-</td>\n",
       "      <td>in</td>\n",
       "      <td>Summer</td>\n",
       "      <td>NaN</td>\n",
       "      <td>Primera Division</td>\n",
       "      <td>2021</td>\n",
       "      <td>2021/2022</td>\n",
       "      <td>Osasuna</td>\n",
       "    </tr>\n",
       "  </tbody>\n",
       "</table>\n",
       "</div>"
      ],
      "text/plain": [
       "             club_name    player_name   age            position  \\\n",
       "9510   Athletic Bilbao  Javi Martínez  23.0  Defensive Midfield   \n",
       "16308       CA Osasuna  Javi Martínez  21.0  Attacking Midfield   \n",
       "\n",
       "      club_involved_name      fee transfer_movement transfer_period  \\\n",
       "9510       Bayern Munich  €40.00m               out          Summer   \n",
       "16308    CA Osasuna Prom        -                in          Summer   \n",
       "\n",
       "       fee_cleaned       league_name  year     season      clubs_short  \n",
       "9510          40.0  Primera Division  2012  2012/2013  Athletic Bilbao  \n",
       "16308          NaN  Primera Division  2021  2021/2022          Osasuna  "
      ]
     },
     "execution_count": 127,
     "metadata": {},
     "output_type": "execute_result"
    }
   ],
   "source": [
    "transf[transf[\"player_name\"] == \"Javi Martínez\"]"
   ]
  },
  {
   "cell_type": "code",
   "execution_count": null,
   "metadata": {},
   "outputs": [],
   "source": []
  }
 ],
 "metadata": {
  "kernelspec": {
   "display_name": "Python 3",
   "language": "python",
   "name": "python3"
  },
  "language_info": {
   "codemirror_mode": {
    "name": "ipython",
    "version": 3
   },
   "file_extension": ".py",
   "mimetype": "text/x-python",
   "name": "python",
   "nbconvert_exporter": "python",
   "pygments_lexer": "ipython3",
   "version": "3.8.5"
  }
 },
 "nbformat": 4,
 "nbformat_minor": 4
}
