{
 "cells": [
  {
   "cell_type": "markdown",
   "metadata": {
    "id": "Pq-6cvYnK9qx"
   },
   "source": [
    "# Model Selection"
   ]
  },
  {
   "cell_type": "code",
   "execution_count": 11,
   "metadata": {
    "id": "w-elNszuK3Ik"
   },
   "outputs": [],
   "source": [
    "import pandas as pd\n",
    "import numpy as np\n",
    "import seaborn as sns\n",
    "import xgboost as xgb\n",
    "import csv\n",
    "import joblib\n",
    "\n",
    "from sklearn.model_selection import GridSearchCV\n",
    "from sklearn.model_selection import RandomizedSearchCV\n",
    "\n",
    "from sklearn.model_selection import StratifiedKFold\n",
    "from sklearn.model_selection import RepeatedStratifiedKFold\n",
    "\n",
    "from sklearn.metrics import classification_report\n",
    "from sklearn.metrics import confusion_matrix\n",
    "from sklearn.model_selection import cross_val_score\n",
    "from sklearn.model_selection import cross_validate\n",
    "\n",
    "from imblearn.pipeline import Pipeline\n",
    "from sklearn.model_selection import train_test_split\n",
    "\n",
    "from imblearn.over_sampling import SMOTE\n",
    "from imblearn.combine import SMOTETomek\n",
    "\n",
    "from sklearn.preprocessing import MinMaxScaler\n",
    "from sklearn.preprocessing import OneHotEncoder\n",
    "#models\n",
    "from sklearn.ensemble import RandomForestClassifier\n",
    "from sklearn.linear_model import LogisticRegression\n",
    "from xgboost import XGBClassifier\n",
    "from sklearn.ensemble import AdaBoostClassifier\n",
    "from sklearn.neighbors import KNeighborsClassifier\n",
    "\n",
    "pd.set_option('display.max_columns', None)"
   ]
  },
  {
   "cell_type": "code",
   "execution_count": 4,
   "metadata": {
    "id": "kV2CWoq9K3In"
   },
   "outputs": [],
   "source": [
    "df = pd.read_csv('../data/processed_players.csv')"
   ]
  },
  {
   "cell_type": "code",
   "execution_count": 5,
   "metadata": {
    "colab": {
     "base_uri": "https://localhost:8080/"
    },
    "id": "5VDSgZD2K3Io",
    "outputId": "c259e4b5-11a0-4111-f106-e7d00446ebff"
   },
   "outputs": [
    {
     "name": "stdout",
     "output_type": "stream",
     "text": [
      "<class 'pandas.core.frame.DataFrame'>\n",
      "RangeIndex: 56510 entries, 0 to 56509\n",
      "Data columns (total 34 columns):\n",
      " #   Column            Non-Null Count  Dtype  \n",
      "---  ------            --------------  -----  \n",
      " 0   club              56510 non-null  object \n",
      " 1   age               56510 non-null  int64  \n",
      " 2   position          56510 non-null  object \n",
      " 3   mins              56510 non-null  int64  \n",
      " 4   goals             56510 non-null  float64\n",
      " 5   assists           56510 non-null  float64\n",
      " 6   motm              56510 non-null  float64\n",
      " 7   rating            56510 non-null  float64\n",
      " 8   league            56510 non-null  object \n",
      " 9   traded            56510 non-null  int64  \n",
      " 10  w_shots           56510 non-null  float64\n",
      " 11  w_yel             56510 non-null  float64\n",
      " 12  w_red             56510 non-null  float64\n",
      " 13  w_aerials_won     56510 non-null  float64\n",
      " 14  w_tackles         56510 non-null  float64\n",
      " 15  w_interceptions   56510 non-null  float64\n",
      " 16  w_fouls           56510 non-null  float64\n",
      " 17  w_offsides_won    56510 non-null  float64\n",
      " 18  w_clearances      56510 non-null  float64\n",
      " 19  w_dribbled        56510 non-null  float64\n",
      " 20  w_blocks          56510 non-null  float64\n",
      " 21  w_own_goals       56510 non-null  float64\n",
      " 22  w_key_passes      56510 non-null  float64\n",
      " 23  w_dribblings      56510 non-null  float64\n",
      " 24  w_fouled          56510 non-null  float64\n",
      " 25  w_offsides        56510 non-null  float64\n",
      " 26  w_dispossed       56510 non-null  float64\n",
      " 27  w_bad_controls    56510 non-null  float64\n",
      " 28  w_avg_passes      56510 non-null  float64\n",
      " 29  w_crosses         56510 non-null  float64\n",
      " 30  w_long_passes     56510 non-null  float64\n",
      " 31  w_through_passes  56510 non-null  float64\n",
      " 32  w_ps_avg_passes   56510 non-null  float64\n",
      " 33  apps_cat          56510 non-null  int64  \n",
      "dtypes: float64(27), int64(4), object(3)\n",
      "memory usage: 14.7+ MB\n"
     ]
    }
   ],
   "source": [
    "df.info()"
   ]
  },
  {
   "cell_type": "markdown",
   "metadata": {
    "id": "id6I2fVoK3Ip"
   },
   "source": [
    "We have to encode the categorical data, I will use one hot encoding"
   ]
  },
  {
   "cell_type": "code",
   "execution_count": 6,
   "metadata": {
    "id": "0qMHmdDOK3Ip"
   },
   "outputs": [],
   "source": [
    "# To float\n",
    "to_float = df.select_dtypes(include=\"float64\").columns\n",
    "\n",
    "for x in to_float:\n",
    "    df[x] = df[x].astype(\"float16\")\n",
    "    \n"
   ]
  },
  {
   "cell_type": "code",
   "execution_count": 9,
   "metadata": {
    "id": "GyPxZ6L6K3Iq"
   },
   "outputs": [],
   "source": [
    "# One hot encoder for cat variables\n",
    "onehot_encoder_club = OneHotEncoder(handle_unknown='ignore',drop='first')\n",
    "onehot_encoder_pos = OneHotEncoder(handle_unknown='ignore',drop='first')\n",
    "onehot_encoder_league = OneHotEncoder(handle_unknown='ignore',drop='first')\n",
    "onehot_encoder_apps = OneHotEncoder(handle_unknown='ignore',drop='first')\n",
    "\n",
    "clubs_df = pd.DataFrame(onehot_encoder_club.fit_transform(df[['club']]).toarray() , \n",
    "                        columns=onehot_encoder_club.get_feature_names_out(['club']))\n",
    "\n",
    "pos_df = pd.DataFrame(onehot_encoder_pos.fit_transform(df[['position']]).toarray(),\n",
    "                        columns=onehot_encoder_pos.get_feature_names_out(['position']))\n",
    "\n",
    "league_df = pd.DataFrame(onehot_encoder_league.fit_transform(df[['league']]).toarray(),\n",
    "                        columns=onehot_encoder_league.get_feature_names_out(['league']))\n",
    "\n",
    "apps_df = pd.DataFrame(onehot_encoder_apps.fit_transform(df[['apps_cat']]).toarray(),\n",
    "                        columns=onehot_encoder_apps.get_feature_names_out(['apps_cat']))\n",
    "\n",
    "df = df.join(clubs_df)\n",
    "df = df.join(pos_df)\n",
    "df = df.join(league_df)\n",
    "df = df.join(apps_df)\n",
    "\n",
    "df = df.drop(['club','position','league','apps_cat'],axis=1)"
   ]
  },
  {
   "cell_type": "code",
   "execution_count": 21,
   "metadata": {
    "id": "4sQtDPMXK3Ir"
   },
   "outputs": [],
   "source": [
    "X = df.loc[:,df.columns != 'traded'].copy()\n",
    "y = df.loc[:,df.columns == 'traded'].copy()"
   ]
  },
  {
   "cell_type": "markdown",
   "metadata": {
    "id": "AtPdFDQ9K3Ir"
   },
   "source": [
    "I will select a few models to see wich ones perform well.\n"
   ]
  },
  {
   "cell_type": "code",
   "execution_count": null,
   "metadata": {
    "id": "2l5kGXjFK3Is"
   },
   "outputs": [],
   "source": [
    "models = [LogisticRegression(max_iter=1000), KNeighborsClassifier(), \n",
    "          RandomForestClassifier(random_state=33,max_depth=50),xgb.XGBClassifier(),AdaBoostClassifier()]"
   ]
  },
  {
   "cell_type": "markdown",
   "metadata": {
    "id": "j1Z-UfpeK3It"
   },
   "source": [
    "### Holdout"
   ]
  },
  {
   "cell_type": "markdown",
   "metadata": {
    "id": "z9GXIvh4LJ7v"
   },
   "source": [
    "I will do a first attemp with the holdout method to quickly see which models would perform better."
   ]
  },
  {
   "cell_type": "code",
   "execution_count": 22,
   "metadata": {
    "id": "YvmP--tlK3It"
   },
   "outputs": [],
   "source": [
    "X_train, X_test, y_train, y_test = train_test_split(X, y, test_size=0.2,stratify=y, random_state=33)"
   ]
  },
  {
   "cell_type": "code",
   "execution_count": 23,
   "metadata": {
    "id": "k36RpVk2K3Iu"
   },
   "outputs": [],
   "source": [
    "#Scale down both datasets\n",
    "scaler_train= MinMaxScaler()\n",
    "scaled_X_train = scaler_train.fit_transform(X_train)\n",
    "\n",
    "scaler_test= MinMaxScaler()\n",
    "scaled_X_test = scaler_test.fit_transform(X_test)"
   ]
  },
  {
   "cell_type": "code",
   "execution_count": null,
   "metadata": {
    "colab": {
     "base_uri": "https://localhost:8080/"
    },
    "id": "V6W840Y5K3Iu",
    "outputId": "0894d9dc-4af1-4072-cc40-3e7b83f176a5"
   },
   "outputs": [
    {
     "name": "stdout",
     "output_type": "stream",
     "text": [
      "Model : LogisticRegression(max_iter=1000)\n",
      "              precision    recall  f1-score   support\n",
      "\n",
      "           0       0.74      0.96      0.84      8241\n",
      "           1       0.51      0.11      0.18      3061\n",
      "\n",
      "    accuracy                           0.73     11302\n",
      "   macro avg       0.62      0.54      0.51     11302\n",
      "weighted avg       0.68      0.73      0.66     11302\n",
      "\n",
      "[[7910  331]\n",
      " [2722  339]]\n",
      "---------------------------------------------------------------\n",
      "Model : KNeighborsClassifier()\n",
      "              precision    recall  f1-score   support\n",
      "\n",
      "           0       0.79      0.88      0.84      8241\n",
      "           1       0.55      0.39      0.45      3061\n",
      "\n",
      "    accuracy                           0.75     11302\n",
      "   macro avg       0.67      0.63      0.65     11302\n",
      "weighted avg       0.73      0.75      0.73     11302\n",
      "\n",
      "[[7287  954]\n",
      " [1881 1180]]\n",
      "---------------------------------------------------------------\n",
      "Model : RandomForestClassifier(max_depth=50, random_state=33)\n",
      "              precision    recall  f1-score   support\n",
      "\n",
      "           0       0.86      0.99      0.92      8241\n",
      "           1       0.97      0.56      0.71      3061\n",
      "\n",
      "    accuracy                           0.88     11302\n",
      "   macro avg       0.92      0.78      0.81     11302\n",
      "weighted avg       0.89      0.88      0.86     11302\n",
      "\n",
      "[[8195   46]\n",
      " [1356 1705]]\n",
      "---------------------------------------------------------------\n",
      "Model : XGBClassifier()\n",
      "              precision    recall  f1-score   support\n",
      "\n",
      "           0       0.74      0.99      0.84      8241\n",
      "           1       0.58      0.05      0.09      3061\n",
      "\n",
      "    accuracy                           0.73     11302\n",
      "   macro avg       0.66      0.52      0.47     11302\n",
      "weighted avg       0.70      0.73      0.64     11302\n",
      "\n",
      "[[8130  111]\n",
      " [2905  156]]\n",
      "---------------------------------------------------------------\n",
      "Model : AdaBoostClassifier()\n",
      "              precision    recall  f1-score   support\n",
      "\n",
      "           0       0.74      0.97      0.84      8241\n",
      "           1       0.51      0.08      0.14      3061\n",
      "\n",
      "    accuracy                           0.73     11302\n",
      "   macro avg       0.63      0.53      0.49     11302\n",
      "weighted avg       0.68      0.73      0.65     11302\n",
      "\n",
      "[[8003  238]\n",
      " [2810  251]]\n",
      "---------------------------------------------------------------\n"
     ]
    }
   ],
   "source": [
    "for model_a in models:\n",
    "        model = model_a\n",
    "        model.fit(scaled_X_train,y_train.values.ravel())\n",
    "        y_pred = model.predict(scaled_X_test)\n",
    "        print('Model :',model_a)\n",
    "        print(classification_report(y_test, y_pred))\n",
    "        print(confusion_matrix(y_test, y_pred))\n",
    "        print('---------------------------------------------------------------')"
   ]
  },
  {
   "cell_type": "markdown",
   "metadata": {
    "id": "y85gXhArK3Iv"
   },
   "source": [
    "The best models are Random Forest and KNN. Probably they are overfitting but this is a problem that we would solve later. For now we will study deeper this 2 models.\n",
    "\n",
    "Firstly we want to try which technique wouls work better to solve the imbalance data problematic. We are going to try SMOTE, SMOTETomek and just Stratified K Fold."
   ]
  },
  {
   "cell_type": "markdown",
   "metadata": {
    "id": "UzMyC8CEK3Iv"
   },
   "source": [
    "### SMOTE"
   ]
  },
  {
   "cell_type": "code",
   "execution_count": null,
   "metadata": {
    "id": "qTRzAoXhMnbs"
   },
   "outputs": [],
   "source": [
    "models = [ KNeighborsClassifier(), RandomForestClassifier(random_state=33,max_depth=50)]"
   ]
  },
  {
   "cell_type": "markdown",
   "metadata": {
    "id": "Xfu0f5DhK3Iv"
   },
   "source": [
    "I will scale down the values of X"
   ]
  },
  {
   "cell_type": "code",
   "execution_count": 24,
   "metadata": {
    "id": "rY4qJPzdK3Iw"
   },
   "outputs": [],
   "source": [
    "scaler= MinMaxScaler()\n",
    "scaled_X = scaler.fit_transform(X)\n"
   ]
  },
  {
   "cell_type": "code",
   "execution_count": null,
   "metadata": {
    "id": "X6Ycjn6_K3Iw"
   },
   "outputs": [],
   "source": [
    "def compare_models_smote(smote,x,y):\n",
    "    scoring = ['precision', 'recall', 'f1']\n",
    "    for model in models:\n",
    "        if smote:\n",
    "            steps = [('over', SMOTE()), ('model', model)]\n",
    "        else:\n",
    "            steps = [('over', SMOTETomek(sampling_strategy=0.75)), ('model', model)]\n",
    "            \n",
    "        pipeline = Pipeline(steps=steps)\n",
    "        \n",
    "        kfold = RepeatedStratifiedKFold(n_splits=5,n_repeats=3,random_state=33)\n",
    "            \n",
    "        results = cross_validate(pipeline, x, y.values.ravel(), cv=kfold,scoring=scoring)\n",
    "       \n",
    "        precision = results['test_precision']\n",
    "        recall = results['test_recall']\n",
    "        f1 = results['test_f1']\n",
    "        \n",
    "        print('Model :',model)\n",
    "        print(\"Precision mean =\", np.mean(precision), \"std =\",np.std(precision))\n",
    "        print(\"Recall mean =\", np.mean(recall), \"std =\",np.std(recall))\n",
    "        print(\"F1-Score mean =\", np.mean(f1), \"std =\",np.std(f1))\n",
    "        print('---------------------------------------------------------------')"
   ]
  },
  {
   "cell_type": "code",
   "execution_count": null,
   "metadata": {
    "id": "_rLPMtw6K3Ix"
   },
   "outputs": [],
   "source": [
    "def compare_models(x,y):\n",
    "    scoring = ['precision', 'recall', 'f1']\n",
    "    for model in models:\n",
    "        \n",
    "        kfold = RepeatedStratifiedKFold(n_splits=5,n_repeats=3,random_state=33)\n",
    "            \n",
    "        results = cross_validate(model, x, y.values.ravel(), cv=kfold,scoring=scoring)\n",
    "       \n",
    "        precision = results['test_precision']\n",
    "        recall = results['test_recall']\n",
    "        f1 = results['test_f1']\n",
    "        \n",
    "        print('Model :',model)\n",
    "        print(\"Precision mean =\", np.mean(precision), \"std =\",np.std(precision))\n",
    "        print(\"Recall mean =\", np.mean(recall), \"std =\",np.std(recall))\n",
    "        print(\"F1-Score mean =\", np.mean(f1), \"std =\",np.std(f1))\n",
    "        print('---------------------------------------------------------------')"
   ]
  },
  {
   "cell_type": "code",
   "execution_count": null,
   "metadata": {
    "colab": {
     "base_uri": "https://localhost:8080/"
    },
    "id": "ZNN3sLZ5K3Ix",
    "outputId": "4393fd67-cdb6-4277-8400-7111736626d5"
   },
   "outputs": [
    {
     "name": "stdout",
     "output_type": "stream",
     "text": [
      "Model : KNeighborsClassifier()\n",
      "Precision mean = 0.4344121228063725 std = 0.004999282303671559\n",
      "Recall mean = 0.7390566073836634 std = 0.00882745624528864\n",
      "F1-Score mean = 0.5471701492268769 std = 0.005487026676754981\n",
      "---------------------------------------------------------------\n",
      "Model : RandomForestClassifier(max_depth=50, random_state=33)\n",
      "Precision mean = 0.9351575199386986 std = 0.005998913367374764\n",
      "Recall mean = 0.8534343236262901 std = 0.008963745809873507\n",
      "F1-Score mean = 0.8924055322864948 std = 0.006367887341456651\n",
      "---------------------------------------------------------------\n"
     ]
    }
   ],
   "source": [
    "compare_models_smote(smote=True,x=scaled_X,y=y)"
   ]
  },
  {
   "cell_type": "markdown",
   "metadata": {
    "id": "TfRi3SdFK3Ix"
   },
   "source": [
    "### SMOTETomek"
   ]
  },
  {
   "cell_type": "code",
   "execution_count": null,
   "metadata": {
    "colab": {
     "base_uri": "https://localhost:8080/"
    },
    "id": "Jns_vfr8K3Iy",
    "outputId": "6ba496cc-793e-42be-dafb-526bf14014e0"
   },
   "outputs": [
    {
     "name": "stdout",
     "output_type": "stream",
     "text": [
      "Model : KNeighborsClassifier()\n",
      "Precision mean = 0.43744494597917455 std = 0.004471207391905086\n",
      "Recall mean = 0.6733742944908638 std = 0.009754629247805674\n",
      "F1-Score mean = 0.5303277839321489 std = 0.005178178968429531\n",
      "---------------------------------------------------------------\n",
      "Model : RandomForestClassifier(max_depth=50, random_state=33)\n",
      "Precision mean = 0.9384977136334952 std = 0.006304899918911443\n",
      "Recall mean = 0.8016466117886165 std = 0.010308873031732436\n",
      "F1-Score mean = 0.8646571821395276 std = 0.007234219453985614\n",
      "---------------------------------------------------------------\n"
     ]
    }
   ],
   "source": [
    "compare_models_smote(smote=False,x=scaled_X,y=y)"
   ]
  },
  {
   "cell_type": "markdown",
   "metadata": {
    "id": "dScxLEi0K3Iy"
   },
   "source": [
    "### Stratified KFold"
   ]
  },
  {
   "cell_type": "code",
   "execution_count": null,
   "metadata": {
    "colab": {
     "base_uri": "https://localhost:8080/"
    },
    "id": "8Uul2OABK3Iy",
    "outputId": "078abc19-81f8-4aef-9597-27a7db4ed23f"
   },
   "outputs": [
    {
     "name": "stdout",
     "output_type": "stream",
     "text": [
      "Model : KNeighborsClassifier()\n",
      "Precision mean = 0.5581685850601972 std = 0.006503354388943728\n",
      "Recall mean = 0.39158956931535016 std = 0.011564295721753505\n",
      "F1-Score mean = 0.46019057831575033 std = 0.009150903851754537\n",
      "---------------------------------------------------------------\n",
      "Model : RandomForestClassifier(max_depth=50, random_state=33)\n",
      "Precision mean = 0.9848104227409387 std = 0.004430961509284331\n",
      "Recall mean = 0.8182195638392102 std = 0.010198446642670686\n",
      "F1-Score mean = 0.8937832031097089 std = 0.006539042313802806\n",
      "---------------------------------------------------------------\n"
     ]
    }
   ],
   "source": [
    "compare_models(x=scaled_X,y=y)"
   ]
  },
  {
   "cell_type": "markdown",
   "metadata": {
    "id": "Wb2zouWpK3Iz"
   },
   "source": [
    "Based on the results, I would want to develop a Random Forest Classifier. I will use StratifiedKFold since the results are the best but primarly because there is not a modification of the original dataset unlike with SMOTE or SMOTETomek. Similar results, I am always going with no modification methods.\n",
    "\n",
    "Anyways, I think some overfitting is happening."
   ]
  },
  {
   "cell_type": "markdown",
   "metadata": {
    "id": "W4HZq3H_K3Iz"
   },
   "source": [
    "### Hyperparameter Tuning"
   ]
  },
  {
   "cell_type": "markdown",
   "metadata": {
    "id": "NzTohNSNK3Iz"
   },
   "source": [
    "#### Random Forest"
   ]
  },
  {
   "cell_type": "markdown",
   "metadata": {
    "id": "Mg56_bozK3Iz"
   },
   "source": [
    "Random Search CV to get clue of where to start."
   ]
  },
  {
   "cell_type": "code",
   "execution_count": null,
   "metadata": {
    "id": "xHNiP6UEK3Iz"
   },
   "outputs": [],
   "source": [
    "\n",
    "param_grid = {\n",
    "    'max_depth': [30,50,100,200],\n",
    "    'min_samples_leaf': [1, 2, 3,4],\n",
    "    'min_samples_split': [2, 5, 10,20],\n",
    "    'n_estimators': [100, 500, 700,1200],\n",
    "    'bootstrap': [True, False],\n",
    "    'criterion': ['gini', 'entropy']\n",
    "}\n",
    "kfold = StratifiedKFold(n_splits=3,shuffle=True,random_state=33)\n",
    "rf = RandomForestClassifier()\n",
    "grid_search = RandomizedSearchCV(estimator = rf,n_iter= 25 ,param_distributions = param_grid,scoring='f1', \n",
    "                          cv = kfold, n_jobs = -1, verbose = 2)"
   ]
  },
  {
   "cell_type": "code",
   "execution_count": null,
   "metadata": {
    "colab": {
     "base_uri": "https://localhost:8080/"
    },
    "id": "xFHTlS9UK3I0",
    "outputId": "7729e741-2d2f-471b-fd7d-a7c279219ced"
   },
   "outputs": [
    {
     "name": "stdout",
     "output_type": "stream",
     "text": [
      "Fitting 3 folds for each of 25 candidates, totalling 75 fits\n"
     ]
    },
    {
     "name": "stderr",
     "output_type": "stream",
     "text": [
      "/usr/local/lib/python3.8/dist-packages/joblib/externals/loky/process_executor.py:700: UserWarning: A worker stopped while some jobs were given to the executor. This can be caused by a too short worker timeout or by a memory leak.\n",
      "  warnings.warn(\n"
     ]
    }
   ],
   "source": [
    "best_model_rf = grid_search.fit(scaled_X_train,y_train.values.ravel())"
   ]
  },
  {
   "cell_type": "code",
   "execution_count": null,
   "metadata": {
    "colab": {
     "base_uri": "https://localhost:8080/"
    },
    "id": "csrQOA6gK3I0",
    "outputId": "c5c42b4b-523b-4290-919c-a4f044c492f9"
   },
   "outputs": [
    {
     "name": "stdout",
     "output_type": "stream",
     "text": [
      "Best params:  {'n_estimators': 700, 'min_samples_split': 10, 'min_samples_leaf': 1, 'max_depth': 100, 'criterion': 'entropy', 'bootstrap': False}\n",
      "Best score:  0.7185585455402602\n"
     ]
    }
   ],
   "source": [
    "print(\"Best params: \",best_model_rf.best_params_)\n",
    "print(\"Best score: \",best_model_rf.best_score_)"
   ]
  },
  {
   "cell_type": "markdown",
   "metadata": {
    "id": "Cun0-L5UK3I0"
   },
   "source": [
    "### Evaluation"
   ]
  },
  {
   "cell_type": "code",
   "execution_count": null,
   "metadata": {
    "colab": {
     "base_uri": "https://localhost:8080/"
    },
    "id": "zuWWWGe9b1F1",
    "outputId": "a4d72b40-a15f-4478-d161-29332a2f5443"
   },
   "outputs": [
    {
     "name": "stdout",
     "output_type": "stream",
     "text": [
      "              precision    recall  f1-score   support\n",
      "\n",
      "           0       0.99      0.86      0.92      9555\n",
      "           1       0.56      0.97      0.71      1747\n",
      "\n",
      "    accuracy                           0.88     11302\n",
      "   macro avg       0.78      0.92      0.81     11302\n",
      "weighted avg       0.93      0.88      0.89     11302\n",
      "\n",
      "[[8196 1359]\n",
      " [  45 1702]]\n"
     ]
    }
   ],
   "source": [
    "rf_ev = RandomForestClassifier(n_estimators=700, min_samples_split= 10, min_samples_leaf= 1, max_depth= 100, criterion= 'entropy', bootstrap= False)\n",
    "rf_ev.fit(scaled_X_train,y_train.values.ravel())\n",
    "y_pred = rf_ev.predict(scaled_X_test)\n",
    "print(classification_report(y_pred, y_test))\n",
    "print(confusion_matrix(y_pred, y_test))"
   ]
  },
  {
   "cell_type": "code",
   "execution_count": null,
   "metadata": {
    "colab": {
     "base_uri": "https://localhost:8080/"
    },
    "id": "v4XTnhoMb7he",
    "outputId": "9453f80a-6340-476c-a923-717daf8c9fb9"
   },
   "outputs": [
    {
     "name": "stdout",
     "output_type": "stream",
     "text": [
      "              precision    recall  f1-score   support\n",
      "\n",
      "           0       1.00      1.00      1.00     32968\n",
      "           1       1.00      1.00      1.00     12240\n",
      "\n",
      "    accuracy                           1.00     45208\n",
      "   macro avg       1.00      1.00      1.00     45208\n",
      "weighted avg       1.00      1.00      1.00     45208\n",
      "\n",
      "[[32963     5]\n",
      " [    0 12240]]\n"
     ]
    }
   ],
   "source": [
    "y_train_pred = rf_ev.predict(scaled_X_train)\n",
    "print(classification_report(y_train_pred, y_train))\n",
    "print(confusion_matrix(y_train_pred, y_train))"
   ]
  },
  {
   "cell_type": "markdown",
   "metadata": {
    "id": "hfPZG367dqCB"
   },
   "source": [
    "The model is overfitting and I runed a deeper tuning in another machine and It gave the next results:"
   ]
  },
  {
   "cell_type": "code",
   "execution_count": null,
   "metadata": {
    "colab": {
     "base_uri": "https://localhost:8080/"
    },
    "id": "HmHEplLSK3I1",
    "outputId": "6b6b2fa3-2df5-475f-d070-acf3140f7cda"
   },
   "outputs": [
    {
     "name": "stdout",
     "output_type": "stream",
     "text": [
      "              precision    recall  f1-score   support\n",
      "\n",
      "           0       0.99      0.92      0.96      8876\n",
      "           1       0.78      0.98      0.87      2426\n",
      "\n",
      "    accuracy                           0.94     11302\n",
      "   macro avg       0.89      0.95      0.91     11302\n",
      "weighted avg       0.95      0.94      0.94     11302\n",
      "\n",
      "[[8199  677]\n",
      " [  42 2384]]\n"
     ]
    }
   ],
   "source": [
    "rf_ev = RandomForestClassifier(n_estimators=1200, min_samples_split= 2, min_samples_leaf= 1, max_depth= 50, criterion= 'gini', bootstrap= False)\n",
    "rf_ev.fit(scaled_X_train,y_train.values.ravel())\n",
    "y_pred = rf_ev.predict(scaled_X_test)\n",
    "print(classification_report(y_pred, y_test))\n",
    "print(confusion_matrix(y_pred, y_test))"
   ]
  },
  {
   "cell_type": "code",
   "execution_count": null,
   "metadata": {
    "colab": {
     "base_uri": "https://localhost:8080/"
    },
    "id": "oushRGZsK3I1",
    "outputId": "2133f3dd-6280-425e-d313-87cfa5f5fec6"
   },
   "outputs": [
    {
     "name": "stdout",
     "output_type": "stream",
     "text": [
      "              precision    recall  f1-score   support\n",
      "\n",
      "           0       1.00      1.00      1.00     32964\n",
      "           1       1.00      1.00      1.00     12244\n",
      "\n",
      "    accuracy                           1.00     45208\n",
      "   macro avg       1.00      1.00      1.00     45208\n",
      "weighted avg       1.00      1.00      1.00     45208\n",
      "\n",
      "[[32963     1]\n",
      " [    0 12244]]\n"
     ]
    }
   ],
   "source": [
    "y_train_pred = rf_ev.predict(scaled_X_train)\n",
    "print(classification_report(y_train_pred, y_train))\n",
    "print(confusion_matrix(y_train_pred, y_train))"
   ]
  },
  {
   "cell_type": "markdown",
   "metadata": {
    "id": "kar2Waw0K3I1"
   },
   "source": [
    "The results are really good, better than teh first one but there is also some overfiting, the model fits perfectly the train set but the precision gap between the 2 predictions is really high. I guess it is because the max depth still being really high. I will try with lower values."
   ]
  },
  {
   "cell_type": "code",
   "execution_count": null,
   "metadata": {
    "colab": {
     "base_uri": "https://localhost:8080/"
    },
    "id": "t54cEsMkK3I2",
    "outputId": "36524d63-b2e9-4ffb-d325-888cd764cac1"
   },
   "outputs": [
    {
     "name": "stdout",
     "output_type": "stream",
     "text": [
      "              precision    recall  f1-score   support\n",
      "\n",
      "           0       0.64      0.82      0.72      6506\n",
      "           1       0.61      0.39      0.48      4796\n",
      "\n",
      "    accuracy                           0.64     11302\n",
      "   macro avg       0.63      0.60      0.60     11302\n",
      "weighted avg       0.63      0.64      0.62     11302\n",
      "\n",
      "[[5313 1193]\n",
      " [2928 1868]]\n"
     ]
    }
   ],
   "source": [
    "rf_ev = RandomForestClassifier(class_weight='balanced',n_estimators=1200, min_samples_split= 2, min_samples_leaf = 1, max_depth = 8, criterion= 'gini', bootstrap= False)\n",
    "rf_ev.fit(scaled_X_train,y_train.values.ravel())\n",
    "y_pred = rf_ev.predict(scaled_X_test)\n",
    "print(classification_report(y_pred, y_test))\n",
    "print(confusion_matrix(y_pred, y_test))"
   ]
  },
  {
   "cell_type": "code",
   "execution_count": null,
   "metadata": {
    "colab": {
     "base_uri": "https://localhost:8080/"
    },
    "id": "cMiZcBLtK3I2",
    "outputId": "c18fb1ad-d569-42cb-f23a-d179a9122016"
   },
   "outputs": [
    {
     "name": "stdout",
     "output_type": "stream",
     "text": [
      "              precision    recall  f1-score   support\n",
      "\n",
      "           0       0.66      0.83      0.74     25973\n",
      "           1       0.65      0.41      0.51     19235\n",
      "\n",
      "    accuracy                           0.66     45208\n",
      "   macro avg       0.65      0.62      0.62     45208\n",
      "weighted avg       0.65      0.66      0.64     45208\n",
      "\n",
      "[[21682  4291]\n",
      " [11281  7954]]\n"
     ]
    }
   ],
   "source": [
    "y_train_pred = rf_ev.predict(scaled_X_train)\n",
    "print(classification_report(y_train_pred, y_train))\n",
    "print(confusion_matrix(y_train_pred, y_train))"
   ]
  },
  {
   "cell_type": "markdown",
   "metadata": {
    "id": "aNvQAW7HNXif"
   },
   "source": [
    "After some test I found out that the best max depth is 8, this as we can see doesn´t overfit using a Holdout method. To confirm this I will use this model with Stratified K Fold and check wether overfits or not."
   ]
  },
  {
   "cell_type": "markdown",
   "metadata": {
    "id": "Kf4D8pGoK3I2"
   },
   "source": [
    "### Stratified k fold"
   ]
  },
  {
   "cell_type": "code",
   "execution_count": null,
   "metadata": {
    "colab": {
     "base_uri": "https://localhost:8080/"
    },
    "id": "9K-PQwJ4K3I2",
    "outputId": "1d93fc80-8d30-4ed4-ccf8-3c5a95348674"
   },
   "outputs": [
    {
     "name": "stdout",
     "output_type": "stream",
     "text": [
      "TEST\n",
      "              precision    recall  f1-score   support\n",
      "\n",
      "           0       0.64      0.81      0.71      2594\n",
      "           1       0.60      0.38      0.46      1927\n",
      "\n",
      "    accuracy                           0.63      4521\n",
      "   macro avg       0.62      0.60      0.59      4521\n",
      "weighted avg       0.62      0.63      0.61      4521\n",
      "\n",
      "[[2102  492]\n",
      " [1195  732]]\n",
      "----------------------------------------------------------\n",
      "TRAIN\n",
      "              precision    recall  f1-score   support\n",
      "\n",
      "           0       0.66      0.84      0.74     23464\n",
      "           1       0.65      0.42      0.51     17223\n",
      "\n",
      "    accuracy                           0.66     40687\n",
      "   macro avg       0.66      0.63      0.62     40687\n",
      "weighted avg       0.66      0.66      0.64     40687\n",
      "\n",
      "[[19631  3833]\n",
      " [10035  7188]]\n",
      "TEST\n",
      "              precision    recall  f1-score   support\n",
      "\n",
      "           0       0.66      0.83      0.73      2600\n",
      "           1       0.64      0.41      0.50      1921\n",
      "\n",
      "    accuracy                           0.65      4521\n",
      "   macro avg       0.65      0.62      0.62      4521\n",
      "weighted avg       0.65      0.65      0.63      4521\n",
      "\n",
      "[[2162  438]\n",
      " [1135  786]]\n",
      "----------------------------------------------------------\n",
      "TRAIN\n",
      "              precision    recall  f1-score   support\n",
      "\n",
      "           0       0.66      0.84      0.74     23383\n",
      "           1       0.65      0.42      0.51     17304\n",
      "\n",
      "    accuracy                           0.66     40687\n",
      "   macro avg       0.66      0.63      0.62     40687\n",
      "weighted avg       0.66      0.66      0.64     40687\n",
      "\n",
      "[[19569  3814]\n",
      " [10097  7207]]\n",
      "TEST\n",
      "              precision    recall  f1-score   support\n",
      "\n",
      "           0       0.64      0.82      0.72      2602\n",
      "           1       0.61      0.39      0.48      1919\n",
      "\n",
      "    accuracy                           0.64      4521\n",
      "   macro avg       0.63      0.60      0.60      4521\n",
      "weighted avg       0.63      0.64      0.62      4521\n",
      "\n",
      "[[2125  477]\n",
      " [1172  747]]\n",
      "----------------------------------------------------------\n",
      "TRAIN\n",
      "              precision    recall  f1-score   support\n",
      "\n",
      "           0       0.66      0.84      0.74     23353\n",
      "           1       0.65      0.42      0.51     17334\n",
      "\n",
      "    accuracy                           0.66     40687\n",
      "   macro avg       0.66      0.63      0.62     40687\n",
      "weighted avg       0.66      0.66      0.64     40687\n",
      "\n",
      "[[19540  3813]\n",
      " [10126  7208]]\n",
      "TEST\n",
      "              precision    recall  f1-score   support\n",
      "\n",
      "           0       0.67      0.82      0.74      2682\n",
      "           1       0.60      0.40      0.48      1839\n",
      "\n",
      "    accuracy                           0.65      4521\n",
      "   macro avg       0.64      0.61      0.61      4521\n",
      "weighted avg       0.64      0.65      0.63      4521\n",
      "\n",
      "[[2198  484]\n",
      " [1098  741]]\n",
      "----------------------------------------------------------\n",
      "TRAIN\n",
      "              precision    recall  f1-score   support\n",
      "\n",
      "           0       0.66      0.83      0.74     23417\n",
      "           1       0.65      0.41      0.51     17270\n",
      "\n",
      "    accuracy                           0.66     40687\n",
      "   macro avg       0.65      0.62      0.62     40687\n",
      "weighted avg       0.65      0.66      0.64     40687\n",
      "\n",
      "[[19542  3875]\n",
      " [10125  7145]]\n",
      "TEST\n",
      "              precision    recall  f1-score   support\n",
      "\n",
      "           0       0.64      0.82      0.72      2573\n",
      "           1       0.62      0.39      0.48      1948\n",
      "\n",
      "    accuracy                           0.64      4521\n",
      "   macro avg       0.63      0.61      0.60      4521\n",
      "weighted avg       0.63      0.64      0.62      4521\n",
      "\n",
      "[[2110  463]\n",
      " [1186  762]]\n",
      "----------------------------------------------------------\n",
      "TRAIN\n",
      "              precision    recall  f1-score   support\n",
      "\n",
      "           0       0.66      0.84      0.74     23349\n",
      "           1       0.66      0.42      0.51     17338\n",
      "\n",
      "    accuracy                           0.66     40687\n",
      "   macro avg       0.66      0.63      0.62     40687\n",
      "weighted avg       0.66      0.66      0.64     40687\n",
      "\n",
      "[[19564  3785]\n",
      " [10103  7235]]\n",
      "TEST\n",
      "              precision    recall  f1-score   support\n",
      "\n",
      "           0       0.64      0.83      0.72      2562\n",
      "           1       0.64      0.40      0.49      1959\n",
      "\n",
      "    accuracy                           0.64      4521\n",
      "   macro avg       0.64      0.61      0.61      4521\n",
      "weighted avg       0.64      0.64      0.62      4521\n",
      "\n",
      "[[2118  444]\n",
      " [1178  781]]\n",
      "----------------------------------------------------------\n",
      "TRAIN\n",
      "              precision    recall  f1-score   support\n",
      "\n",
      "           0       0.66      0.84      0.74     23342\n",
      "           1       0.66      0.42      0.51     17345\n",
      "\n",
      "    accuracy                           0.66     40687\n",
      "   macro avg       0.66      0.63      0.62     40687\n",
      "weighted avg       0.66      0.66      0.64     40687\n",
      "\n",
      "[[19543  3799]\n",
      " [10124  7221]]\n",
      "TEST\n",
      "              precision    recall  f1-score   support\n",
      "\n",
      "           0       0.66      0.82      0.73      2641\n",
      "           1       0.61      0.40      0.48      1880\n",
      "\n",
      "    accuracy                           0.64      4521\n",
      "   macro avg       0.63      0.61      0.60      4521\n",
      "weighted avg       0.63      0.64      0.62      4521\n",
      "\n",
      "[[2159  482]\n",
      " [1137  743]]\n",
      "----------------------------------------------------------\n",
      "TRAIN\n",
      "              precision    recall  f1-score   support\n",
      "\n",
      "           0       0.66      0.84      0.74     23428\n",
      "           1       0.65      0.42      0.51     17259\n",
      "\n",
      "    accuracy                           0.66     40687\n",
      "   macro avg       0.66      0.63      0.62     40687\n",
      "weighted avg       0.66      0.66      0.64     40687\n",
      "\n",
      "[[19616  3812]\n",
      " [10051  7208]]\n",
      "TEST\n",
      "              precision    recall  f1-score   support\n",
      "\n",
      "           0       0.64      0.81      0.72      2593\n",
      "           1       0.60      0.38      0.47      1928\n",
      "\n",
      "    accuracy                           0.63      4521\n",
      "   macro avg       0.62      0.60      0.59      4521\n",
      "weighted avg       0.62      0.63      0.61      4521\n",
      "\n",
      "[[2108  485]\n",
      " [1188  740]]\n",
      "----------------------------------------------------------\n",
      "TRAIN\n",
      "              precision    recall  f1-score   support\n",
      "\n",
      "           0       0.66      0.84      0.74     23367\n",
      "           1       0.66      0.42      0.51     17320\n",
      "\n",
      "    accuracy                           0.66     40687\n",
      "   macro avg       0.66      0.63      0.62     40687\n",
      "weighted avg       0.66      0.66      0.64     40687\n",
      "\n",
      "[[19580  3787]\n",
      " [10087  7233]]\n",
      "TEST\n",
      "              precision    recall  f1-score   support\n",
      "\n",
      "           0       0.65      0.82      0.73      2621\n",
      "           1       0.62      0.40      0.48      1899\n",
      "\n",
      "    accuracy                           0.64      4520\n",
      "   macro avg       0.63      0.61      0.60      4520\n",
      "weighted avg       0.64      0.64      0.62      4520\n",
      "\n",
      "[[2151  470]\n",
      " [1145  754]]\n",
      "----------------------------------------------------------\n",
      "TRAIN\n",
      "              precision    recall  f1-score   support\n",
      "\n",
      "           0       0.66      0.84      0.74     23525\n",
      "           1       0.65      0.42      0.51     17163\n",
      "\n",
      "    accuracy                           0.66     40688\n",
      "   macro avg       0.66      0.63      0.62     40688\n",
      "weighted avg       0.66      0.66      0.64     40688\n",
      "\n",
      "[[19669  3856]\n",
      " [ 9998  7165]]\n",
      "TEST\n",
      "              precision    recall  f1-score   support\n",
      "\n",
      "           0       0.65      0.81      0.72      2623\n",
      "           1       0.60      0.39      0.47      1897\n",
      "\n",
      "    accuracy                           0.64      4520\n",
      "   macro avg       0.63      0.60      0.60      4520\n",
      "weighted avg       0.63      0.64      0.62      4520\n",
      "\n",
      "[[2136  487]\n",
      " [1160  737]]\n",
      "----------------------------------------------------------\n",
      "TRAIN\n",
      "              precision    recall  f1-score   support\n",
      "\n",
      "           0       0.66      0.84      0.74     23334\n",
      "           1       0.66      0.42      0.51     17354\n",
      "\n",
      "    accuracy                           0.66     40688\n",
      "   macro avg       0.66      0.63      0.62     40688\n",
      "weighted avg       0.66      0.66      0.64     40688\n",
      "\n",
      "[[19553  3781]\n",
      " [10114  7240]]\n"
     ]
    }
   ],
   "source": [
    "\n",
    "clf = RandomForestClassifier(class_weight='balanced',n_estimators=1200, min_samples_split= 2, min_samples_leaf= 1, max_depth= 8, criterion= 'gini', bootstrap= False)\n",
    "\n",
    "\n",
    "skf = StratifiedKFold(n_splits=10, shuffle=True, random_state=123)\n",
    "\n",
    "y_train=np.array(y_train)\n",
    "# Loop through the folds\n",
    "for train_index, test_index in skf.split(scaled_X_train, y_train):\n",
    "\n",
    "    X_train_skf, X_test_skf = scaled_X_train[train_index], scaled_X_train[test_index]\n",
    "    y_train_skf, y_test_skf = y_train[train_index], y_train[test_index]\n",
    "\n",
    "\n",
    "    clf.fit(X_train_skf, y_train_skf.ravel())\n",
    "\n",
    "\n",
    "    y_pred = clf.predict(X_test_skf)\n",
    "\n",
    "\n",
    "    cm = confusion_matrix(y_pred, y_test_skf)\n",
    "    cr =classification_report(y_pred, y_test_skf)\n",
    "\n",
    "    print('TEST')\n",
    "    print(cr)\n",
    "    print(cm)\n",
    "    y_pred_train = clf.predict(X_train_skf)\n",
    "    print('----------------------------------------------------------')\n",
    "    print('TRAIN')\n",
    "\n",
    "    cm2 = confusion_matrix(y_pred_train, y_train_skf)\n",
    "    cr2 =classification_report(y_pred_train, y_train_skf)\n",
    "\n",
    "    print(cr2)\n",
    "    print(cm2)"
   ]
  },
  {
   "cell_type": "code",
   "execution_count": null,
   "metadata": {
    "colab": {
     "base_uri": "https://localhost:8080/"
    },
    "id": "Ul826sHRK3I3",
    "outputId": "c97f5f7e-4bae-4a13-fdcb-e99106ddfa23"
   },
   "outputs": [
    {
     "name": "stdout",
     "output_type": "stream",
     "text": [
      "              precision    recall  f1-score   support\n",
      "\n",
      "           0       0.65      0.82      0.72      6543\n",
      "           1       0.61      0.39      0.48      4759\n",
      "\n",
      "    accuracy                           0.64     11302\n",
      "   macro avg       0.63      0.60      0.60     11302\n",
      "weighted avg       0.63      0.64      0.62     11302\n",
      "\n",
      "[[5340 1203]\n",
      " [2901 1858]]\n"
     ]
    }
   ],
   "source": [
    "# Make predictions on the test data\n",
    "y_pred = clf.predict(scaled_X_test)\n",
    "# Compute the confusion matrix\n",
    "cm = confusion_matrix(y_pred, y_test)\n",
    "cr =classification_report(y_pred, y_test)\n",
    "print(cr)\n",
    "print(cm)"
   ]
  },
  {
   "cell_type": "markdown",
   "metadata": {
    "id": "C0KcOLGFOBbW"
   },
   "source": [
    "As we can see, this model give a good realation between bias and variance. ESCRIBIR MAS ACERCA DE LOS RESULTADOS."
   ]
  },
  {
   "cell_type": "markdown",
   "metadata": {
    "id": "eBgV8dV9K3I4"
   },
   "source": [
    "### EXTRA TEST"
   ]
  },
  {
   "cell_type": "markdown",
   "metadata": {
    "id": "EvlRhZV6OURb"
   },
   "source": [
    "Even though we saw that without outsampling or oversampling the results are really similar, I would like to test this out with this model. As I said before, at similar perfomarnce we don´t want to use any modification technique."
   ]
  },
  {
   "cell_type": "code",
   "execution_count": null,
   "metadata": {
    "colab": {
     "base_uri": "https://localhost:8080/"
    },
    "id": "v39mvL1dK3I4",
    "outputId": "48e628d2-12fd-46ef-be20-f02d8f11e632"
   },
   "outputs": [
    {
     "name": "stdout",
     "output_type": "stream",
     "text": [
      "              precision    recall  f1-score   support\n",
      "\n",
      "           0       0.67      0.81      0.73      6747\n",
      "           1       0.59      0.40      0.47      4555\n",
      "\n",
      "    accuracy                           0.65     11302\n",
      "   macro avg       0.63      0.60      0.60     11302\n",
      "weighted avg       0.63      0.65      0.63     11302\n",
      "\n",
      "[[5488 1259]\n",
      " [2753 1802]]\n"
     ]
    }
   ],
   "source": [
    "rf_smt = RandomForestClassifier(class_weight='balanced',n_estimators=1200, min_samples_split= 2, min_samples_leaf = 1, max_depth = 8, criterion= 'gini', bootstrap= False)\n",
    "smt=SMOTETomek(sampling_strategy=0.75)\n",
    "scaled_X_train_smt,y_train_smt = smt.fit_resample(scaled_X_train,y_train)\n",
    "rf_smt.fit(scaled_X_train_smt,y_train_smt.ravel())\n",
    "y_pred = rf_smt.predict(scaled_X_test)\n",
    "print(classification_report(y_pred, y_test))\n",
    "print(confusion_matrix(y_pred, y_test))"
   ]
  },
  {
   "cell_type": "code",
   "execution_count": null,
   "metadata": {
    "colab": {
     "base_uri": "https://localhost:8080/"
    },
    "id": "E9jzeSplK3I4",
    "outputId": "ccca6b85-8773-4c60-fd56-b4dc9144a67e"
   },
   "outputs": [
    {
     "name": "stdout",
     "output_type": "stream",
     "text": [
      "              precision    recall  f1-score   support\n",
      "\n",
      "           0       0.69      0.83      0.75     27400\n",
      "           1       0.61      0.42      0.50     17808\n",
      "\n",
      "    accuracy                           0.67     45208\n",
      "   macro avg       0.65      0.62      0.62     45208\n",
      "weighted avg       0.66      0.67      0.65     45208\n",
      "\n",
      "[[22635  4765]\n",
      " [10328  7480]]\n"
     ]
    }
   ],
   "source": [
    "y_pred_train = rf_smt.predict(scaled_X_train)\n",
    "print(classification_report(y_pred_train, y_train))\n",
    "print(confusion_matrix(y_pred_train, y_train))"
   ]
  },
  {
   "cell_type": "markdown",
   "metadata": {
    "id": "D0MZHHnzO2Hu"
   },
   "source": [
    "The results are quite similar as we expected."
   ]
  },
  {
   "cell_type": "markdown",
   "metadata": {
    "id": "1biOErNbK3I4"
   },
   "source": [
    "#### KNN"
   ]
  },
  {
   "cell_type": "markdown",
   "metadata": {
    "id": "cB9ODmZrO5mL"
   },
   "source": [
    "The second best model was KNN so I think it is a good idea to try KNN out. If both models perfoms similar we would want to use the quickest one if the gap between both process times is big enough."
   ]
  },
  {
   "cell_type": "code",
   "execution_count": 25,
   "metadata": {
    "id": "zrpvFXG7K3I5"
   },
   "outputs": [],
   "source": [
    "param_grid = {\n",
    "    'leaf_size' : [5,9,13,15,21],\n",
    "    'n_neighbors' : [3,7,13,23,29],\n",
    "    'p':[1,2],\n",
    "}\n",
    "kfold = StratifiedKFold(n_splits=3,shuffle=True,random_state=33)\n",
    "knn= KNeighborsClassifier()\n",
    "grid_search = RandomizedSearchCV(estimator = knn,n_iter= 25 ,param_distributions = param_grid,scoring='f1', \n",
    "                          cv = kfold, n_jobs = -1, verbose = 2)"
   ]
  },
  {
   "cell_type": "code",
   "execution_count": 28,
   "metadata": {
    "colab": {
     "base_uri": "https://localhost:8080/"
    },
    "id": "zypIjH23K3I5",
    "outputId": "385e1096-777a-406c-a5e0-a356a880bc25"
   },
   "outputs": [
    {
     "name": "stdout",
     "output_type": "stream",
     "text": [
      "Fitting 3 folds for each of 25 candidates, totalling 75 fits\n"
     ]
    },
    {
     "name": "stderr",
     "output_type": "stream",
     "text": [
      "/usr/local/lib/python3.8/dist-packages/joblib/externals/loky/process_executor.py:700: UserWarning: A worker stopped while some jobs were given to the executor. This can be caused by a too short worker timeout or by a memory leak.\n",
      "  warnings.warn(\n"
     ]
    }
   ],
   "source": [
    "best_model_knn = grid_search.fit(scaled_X_train,y_train.ravel())"
   ]
  },
  {
   "cell_type": "code",
   "execution_count": 29,
   "metadata": {
    "colab": {
     "base_uri": "https://localhost:8080/"
    },
    "id": "Y14t3FmeK3I5",
    "outputId": "c64e32ed-67bf-46a7-c653-241f7abfa2a4"
   },
   "outputs": [
    {
     "name": "stdout",
     "output_type": "stream",
     "text": [
      "Best params:  {'p': 2, 'n_neighbors': 3, 'leaf_size': 15}\n",
      "Best score:  0.39201130704609416\n"
     ]
    }
   ],
   "source": [
    "print(\"Best params: \",best_model_knn.best_params_)\n",
    "print(\"Best score: \",best_model_knn.best_score_)"
   ]
  },
  {
   "cell_type": "code",
   "execution_count": 31,
   "metadata": {
    "colab": {
     "base_uri": "https://localhost:8080/"
    },
    "id": "4e80Y4DYK3I6",
    "outputId": "a01f17a3-f493-421f-8245-94df39a73340"
   },
   "outputs": [
    {
     "name": "stdout",
     "output_type": "stream",
     "text": [
      "              precision    recall  f1-score   support\n",
      "\n",
      "           0       0.79      0.77      0.78      8490\n",
      "           1       0.36      0.39      0.38      2812\n",
      "\n",
      "    accuracy                           0.68     11302\n",
      "   macro avg       0.58      0.58      0.58     11302\n",
      "weighted avg       0.69      0.68      0.68     11302\n",
      "\n",
      "[[6535 1955]\n",
      " [1706 1106]]\n"
     ]
    }
   ],
   "source": [
    "knn_ev = KNeighborsClassifier(p= 2,n_neighbors= 3, leaf_size=15)\n",
    "knn_ev.fit(scaled_X_train,y_train.ravel())\n",
    "y_pred = knn_ev.predict(scaled_X_test)\n",
    "print(classification_report(y_pred, y_test))\n",
    "print(confusion_matrix(y_pred, y_test))"
   ]
  },
  {
   "cell_type": "code",
   "execution_count": 32,
   "metadata": {
    "colab": {
     "base_uri": "https://localhost:8080/"
    },
    "id": "RYZZz638K3I6",
    "outputId": "849afa6d-1bc8-48cb-9bf3-d2b88a3f9f7e"
   },
   "outputs": [
    {
     "name": "stdout",
     "output_type": "stream",
     "text": [
      "              precision    recall  f1-score   support\n",
      "\n",
      "           0       0.96      0.95      0.96     33200\n",
      "           1       0.88      0.89      0.89     12008\n",
      "\n",
      "    accuracy                           0.94     45208\n",
      "   macro avg       0.92      0.92      0.92     45208\n",
      "weighted avg       0.94      0.94      0.94     45208\n",
      "\n",
      "[[31695  1505]\n",
      " [ 1268 10740]]\n"
     ]
    }
   ],
   "source": [
    "y_train_pred = knn_ev.predict(scaled_X_train)\n",
    "print(classification_report(y_train_pred, y_train))\n",
    "print(confusion_matrix(y_train_pred, y_train))"
   ]
  },
  {
   "cell_type": "markdown",
   "metadata": {
    "id": "yZUYBXr8K3I7"
   },
   "source": [
    "It is overfitting but we will not try to solve because we can already see that it won´t perform better than the Random Forest."
   ]
  },
  {
   "cell_type": "markdown",
   "metadata": {
    "id": "F1glK3jEK3I7"
   },
   "source": [
    "### Final Model"
   ]
  },
  {
   "cell_type": "markdown",
   "metadata": {
    "id": "6dfc18xzK3I7"
   },
   "source": [
    "We will go for a Random Forest trained with StratifiedKFold since gives the best perfomance without overfitting."
   ]
  },
  {
   "cell_type": "code",
   "execution_count": null,
   "metadata": {
    "id": "QbMCy2UeK3I7"
   },
   "outputs": [],
   "source": [
    "rf_final = RandomForestClassifier(class_weight='balanced',n_estimators=1200, min_samples_split= 2, min_samples_leaf= 1, max_depth= 8, criterion= 'gini', bootstrap= False)\n",
    "rf_final.fit(scaled_X,y.values.ravel())"
   ]
  },
  {
   "cell_type": "code",
   "execution_count": null,
   "metadata": {
    "id": "TdMKiGjzK3I8"
   },
   "outputs": [],
   "source": [
    "joblib.dump(rf_final, 'random_forest.pkl')"
   ]
  },
  {
   "cell_type": "markdown",
   "metadata": {},
   "source": [
    "We also need to export the encoders"
   ]
  },
  {
   "cell_type": "code",
   "execution_count": 12,
   "metadata": {},
   "outputs": [
    {
     "data": {
      "text/plain": [
       "['encoder_apps.joblib']"
      ]
     },
     "execution_count": 12,
     "metadata": {},
     "output_type": "execute_result"
    }
   ],
   "source": [
    "joblib.dump(onehot_encoder_club, 'encoder_club.joblib')\n",
    "joblib.dump(onehot_encoder_pos, 'encoder_position.joblib')\n",
    "joblib.dump(onehot_encoder_league, 'encoder_league.joblib')\n",
    "joblib.dump(onehot_encoder_apps, 'encoder_apps.joblib')"
   ]
  }
 ],
 "metadata": {
  "colab": {
   "provenance": []
  },
  "kernelspec": {
   "display_name": "Python 3",
   "language": "python",
   "name": "python3"
  },
  "language_info": {
   "codemirror_mode": {
    "name": "ipython",
    "version": 3
   },
   "file_extension": ".py",
   "mimetype": "text/x-python",
   "name": "python",
   "nbconvert_exporter": "python",
   "pygments_lexer": "ipython3",
   "version": "3.8.5"
  }
 },
 "nbformat": 4,
 "nbformat_minor": 4
}
