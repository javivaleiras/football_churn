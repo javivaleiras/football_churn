{
 "cells": [
  {
   "cell_type": "code",
   "execution_count": 1,
   "metadata": {},
   "outputs": [],
   "source": [
    "import pandas as pd\n",
    "import numpy as np\n",
    "import seaborn as sns\n",
    "import xgboost as xgb\n",
    "\n",
    "from sklearn.model_selection import StratifiedKFold\n",
    "from sklearn.model_selection import KFold\n",
    "\n",
    "from sklearn.model_selection import cross_val_score\n",
    "from sklearn.model_selection import cross_validate\n",
    "\n",
    "from sklearn.model_selection import train_test_split\n",
    "from imblearn.over_sampling import SMOTE\n",
    "from sklearn.metrics import classification_report\n",
    "from sklearn.metrics import confusion_matrix\n",
    "from sklearn.preprocessing import MinMaxScaler\n",
    "\n",
    "#models\n",
    "from sklearn.ensemble import RandomForestClassifier\n",
    "from sklearn.linear_model import LogisticRegression\n",
    "from xgboost import XGBClassifier\n",
    "from sklearn.ensemble import AdaBoostClassifier\n",
    "from sklearn.svm import SVC\n",
    "from sklearn.neighbors import KNeighborsClassifier\n",
    "\n",
    "pd.set_option('display.max_columns', None)"
   ]
  },
  {
   "cell_type": "code",
   "execution_count": 2,
   "metadata": {},
   "outputs": [],
   "source": [
    "df = pd.read_csv('../data/processed_players.csv')"
   ]
  },
  {
   "cell_type": "code",
   "execution_count": 3,
   "metadata": {},
   "outputs": [
    {
     "name": "stdout",
     "output_type": "stream",
     "text": [
      "<class 'pandas.core.frame.DataFrame'>\n",
      "RangeIndex: 56510 entries, 0 to 56509\n",
      "Data columns (total 34 columns):\n",
      " #   Column            Non-Null Count  Dtype  \n",
      "---  ------            --------------  -----  \n",
      " 0   club              56510 non-null  object \n",
      " 1   age               56510 non-null  int64  \n",
      " 2   position          56510 non-null  object \n",
      " 3   mins              56510 non-null  int64  \n",
      " 4   goals             56510 non-null  float64\n",
      " 5   assists           56510 non-null  float64\n",
      " 6   motm              56510 non-null  float64\n",
      " 7   rating            56510 non-null  float64\n",
      " 8   league            56510 non-null  object \n",
      " 9   traded            56510 non-null  int64  \n",
      " 10  w_shots           56510 non-null  float64\n",
      " 11  w_yel             56510 non-null  float64\n",
      " 12  w_red             56510 non-null  float64\n",
      " 13  w_aerials_won     56510 non-null  float64\n",
      " 14  w_tackles         56510 non-null  float64\n",
      " 15  w_interceptions   56510 non-null  float64\n",
      " 16  w_fouls           56510 non-null  float64\n",
      " 17  w_offsides_won    56510 non-null  float64\n",
      " 18  w_clearances      56510 non-null  float64\n",
      " 19  w_dribbled        56510 non-null  float64\n",
      " 20  w_blocks          56510 non-null  float64\n",
      " 21  w_own_goals       56510 non-null  float64\n",
      " 22  w_key_passes      56510 non-null  float64\n",
      " 23  w_dribblings      56510 non-null  float64\n",
      " 24  w_fouled          56510 non-null  float64\n",
      " 25  w_offsides        56510 non-null  float64\n",
      " 26  w_dispossed       56510 non-null  float64\n",
      " 27  w_bad_controls    56510 non-null  float64\n",
      " 28  w_avg_passes      56510 non-null  float64\n",
      " 29  w_crosses         56510 non-null  float64\n",
      " 30  w_long_passes     56510 non-null  float64\n",
      " 31  w_through_passes  56510 non-null  float64\n",
      " 32  w_ps_avg_passes   56510 non-null  float64\n",
      " 33  apps_cat          56510 non-null  int64  \n",
      "dtypes: float64(27), int64(4), object(3)\n",
      "memory usage: 14.7+ MB\n"
     ]
    }
   ],
   "source": [
    "df.info()"
   ]
  },
  {
   "cell_type": "markdown",
   "metadata": {},
   "source": [
    "We have to encode the categorical data, I will use one hot encoding"
   ]
  },
  {
   "cell_type": "code",
   "execution_count": 4,
   "metadata": {},
   "outputs": [],
   "source": [
    "# To float\n",
    "to_float = df.select_dtypes(include=\"float64\").columns\n",
    "\n",
    "for x in to_float:\n",
    "    df[x] = df[x].astype(\"float16\")\n",
    "    \n"
   ]
  },
  {
   "cell_type": "code",
   "execution_count": 5,
   "metadata": {},
   "outputs": [],
   "source": [
    "df= pd.get_dummies(df, columns = ['club','position','league','apps_cat'])\n",
    "# Delete n - 1\n",
    "df = df.drop(['apps_cat_10','league_Premier League','position_MIDFIELDER','club_Wolfsburg'],axis=1)"
   ]
  },
  {
   "cell_type": "code",
   "execution_count": 6,
   "metadata": {},
   "outputs": [],
   "source": [
    "X = df.loc[:,df.columns != 'traded'].copy()\n",
    "y = df.loc[:,df.columns == 'traded'].copy()"
   ]
  },
  {
   "cell_type": "markdown",
   "metadata": {},
   "source": [
    "I will select a few models to see wich ones perform well.\n"
   ]
  },
  {
   "cell_type": "code",
   "execution_count": 7,
   "metadata": {},
   "outputs": [],
   "source": [
    "models = [LogisticRegression(max_iter=1000), KNeighborsClassifier(), \n",
    "          RandomForestClassifier(random_state=33),xgb.XGBClassifier(),AdaBoostClassifier()]"
   ]
  },
  {
   "cell_type": "markdown",
   "metadata": {},
   "source": [
    "I will try to manage the imbalance using 2 techniques and observe wich one perfoms better. This 2 techniques will be SMOTE and StratifiedKFold. I would prefer to don´t use Smote because oversampling tend to overfit."
   ]
  },
  {
   "cell_type": "markdown",
   "metadata": {},
   "source": [
    "### SMOTE"
   ]
  },
  {
   "cell_type": "code",
   "execution_count": 8,
   "metadata": {},
   "outputs": [],
   "source": [
    "oversample = SMOTE()\n",
    "X_smote, y_smote = oversample.fit_resample(X, y)\n"
   ]
  },
  {
   "cell_type": "markdown",
   "metadata": {},
   "source": [
    "I will scale down the values of X"
   ]
  },
  {
   "cell_type": "code",
   "execution_count": 9,
   "metadata": {},
   "outputs": [],
   "source": [
    "scaler= MinMaxScaler()\n",
    "scaled_X_smote = scaler.fit_transform(X_smote)"
   ]
  },
  {
   "cell_type": "code",
   "execution_count": 20,
   "metadata": {},
   "outputs": [],
   "source": [
    "def compare_models(kfold,x,y):\n",
    "    scoring = ['precision', 'recall', 'f1']\n",
    "    for model in models:\n",
    "        if kfold:\n",
    "            kfold = KFold(5)\n",
    "        else:\n",
    "            kfold = StratifiedKFold(n_splits=5,shuffle=True,random_state=33)\n",
    "            \n",
    "        results = cross_validate(model, x, y.values.ravel(), cv=kfold,scoring=scoring)\n",
    "       \n",
    "        precision = results['test_precision']\n",
    "        recall = results['test_recall']\n",
    "        f1 = results['test_f1']\n",
    "        \n",
    "        print('Model :',model)\n",
    "        print(\"Precision mean =\", np.mean(precision), \"std =\",np.std(precision))\n",
    "        print(\"Recall mean =\", np.mean(recall), \"std =\",np.std(recall))\n",
    "        print(\"F1-Score mean =\", np.mean(f1), \"std =\",np.std(f1))\n",
    "        print('---------------------------------------------------------------')"
   ]
  },
  {
   "cell_type": "code",
   "execution_count": 14,
   "metadata": {},
   "outputs": [
    {
     "name": "stdout",
     "output_type": "stream",
     "text": [
      "Model : LogisticRegression(max_iter=1000)\n",
      "Precision mean = 0.5217696066801734 std = 0.319274194421967\n",
      "Recall mean = 0.7939486795987744 std = 0.017469401052132304\n",
      "F1-Score mean = 0.5758157935027822 std = 0.22024035271752884\n",
      "---------------------------------------------------------------\n",
      "Model : KNeighborsClassifier()\n",
      "Precision mean = 0.5176330996896358 std = 0.3133827362173911\n",
      "Recall mean = 0.9064004314067386 std = 0.015570910255175137\n",
      "F1-Score mean = 0.6089142351487975 std = 0.24441097072309204\n",
      "---------------------------------------------------------------\n",
      "Model : RandomForestClassifier(random_state=33)\n",
      "Precision mean = 0.5643639459303016 std = 0.3106424011189775\n",
      "Recall mean = 0.9364556764622692 std = 0.010762482089829458\n",
      "F1-Score mean = 0.6579395984517982 std = 0.2348559276421165\n",
      "---------------------------------------------------------------\n",
      "Model : XGBClassifier(base_score=None, booster=None, callbacks=None,\n",
      "              colsample_bylevel=None, colsample_bynode=None,\n",
      "              colsample_bytree=None, early_stopping_rounds=None,\n",
      "              enable_categorical=False, eval_metric=None, feature_types=None,\n",
      "              gamma=None, gpu_id=None, grow_policy=None, importance_type=None,\n",
      "              interaction_constraints=None, learning_rate=None, max_bin=None,\n",
      "              max_cat_threshold=None, max_cat_to_onehot=None,\n",
      "              max_delta_step=None, max_depth=None, max_leaves=None,\n",
      "              min_child_weight=None, missing=nan, monotone_constraints=None,\n",
      "              n_estimators=100, n_jobs=None, num_parallel_tree=None,\n",
      "              predictor=None, random_state=None, ...)\n",
      "Precision mean = 0.5280499994124263 std = 0.31501592037694165\n",
      "Recall mean = 0.8725822037700294 std = 0.012522895844483675\n",
      "F1-Score mean = 0.6038913529178926 std = 0.22833332415651783\n",
      "---------------------------------------------------------------\n",
      "Model : AdaBoostClassifier()\n",
      "Precision mean = 0.5070373442748298 std = 0.3068233464450763\n",
      "Recall mean = 0.8032731216656236 std = 0.08197496367846961\n",
      "F1-Score mean = 0.5541531352630491 std = 0.1823689932938237\n",
      "---------------------------------------------------------------\n"
     ]
    }
   ],
   "source": [
    "compare_models(kfold=True,x=scaled_X_smote,y=y_smote)"
   ]
  },
  {
   "cell_type": "markdown",
   "metadata": {},
   "source": [
    "### Stratified KFold"
   ]
  },
  {
   "cell_type": "code",
   "execution_count": 15,
   "metadata": {},
   "outputs": [],
   "source": [
    "scaler= MinMaxScaler()\n",
    "scaled_X = scaler.fit_transform(X)\n"
   ]
  },
  {
   "cell_type": "code",
   "execution_count": 21,
   "metadata": {},
   "outputs": [
    {
     "name": "stdout",
     "output_type": "stream",
     "text": [
      "Model : LogisticRegression(max_iter=1000)\n",
      "Precision mean = 0.4907451716578676 std = 0.02039466949708226\n",
      "Recall mean = 0.0655295940949016 std = 0.003962203025390826\n",
      "F1-Score mean = 0.11559527831681046 std = 0.006542088451075534\n",
      "---------------------------------------------------------------\n",
      "Model : KNeighborsClassifier()\n",
      "Precision mean = 0.3301110862215878 std = 0.024543586001164755\n",
      "Recall mean = 0.19431472569256664 std = 0.03153334544650518\n",
      "F1-Score mean = 0.24354193880443695 std = 0.029919061365110074\n",
      "---------------------------------------------------------------\n",
      "Model : RandomForestClassifier(random_state=33)\n",
      "Precision mean = 0.5032479841545274 std = 0.02078901467911748\n",
      "Recall mean = 0.04943223864171571 std = 0.006809517148895987\n",
      "F1-Score mean = 0.08980213786886987 std = 0.011055086904675653\n",
      "---------------------------------------------------------------\n",
      "Model : XGBClassifier(base_score=None, booster=None, callbacks=None,\n",
      "              colsample_bylevel=None, colsample_bynode=None,\n",
      "              colsample_bytree=None, early_stopping_rounds=None,\n",
      "              enable_categorical=False, eval_metric=None, feature_types=None,\n",
      "              gamma=None, gpu_id=None, grow_policy=None, importance_type=None,\n",
      "              interaction_constraints=None, learning_rate=None, max_bin=None,\n",
      "              max_cat_threshold=None, max_cat_to_onehot=None,\n",
      "              max_delta_step=None, max_depth=None, max_leaves=None,\n",
      "              min_child_weight=None, missing=nan, monotone_constraints=None,\n",
      "              n_estimators=100, n_jobs=None, num_parallel_tree=None,\n",
      "              predictor=None, random_state=None, ...)\n",
      "Precision mean = 0.43952736712125234 std = 0.020984827683895754\n",
      "Recall mean = 0.12380361675295246 std = 0.01600587158135737\n",
      "F1-Score mean = 0.19230364507918432 std = 0.018131446509352625\n",
      "---------------------------------------------------------------\n",
      "Model : AdaBoostClassifier()\n",
      "Precision mean = 0.5815090599822003 std = 0.04304786548983839\n",
      "Recall mean = 0.028998890044498755 std = 0.007909575439477786\n",
      "F1-Score mean = 0.05495494322967844 std = 0.014076470075094527\n",
      "---------------------------------------------------------------\n"
     ]
    }
   ],
   "source": [
    "compare_models(kfold=False,x=scaled_X,y=y)"
   ]
  },
  {
   "cell_type": "markdown",
   "metadata": {},
   "source": [
    "### Holdout"
   ]
  },
  {
   "cell_type": "code",
   "execution_count": 23,
   "metadata": {},
   "outputs": [],
   "source": [
    "X_train, X_test, y_train, y_test = train_test_split(X, y, test_size=0.2,stratify=y, random_state=33)"
   ]
  },
  {
   "cell_type": "code",
   "execution_count": 24,
   "metadata": {},
   "outputs": [],
   "source": [
    "scaler_train= MinMaxScaler()\n",
    "scaled_X_train = scaler_train.fit_transform(X_train)\n",
    "\n",
    "scaler_test= MinMaxScaler()\n",
    "scaled_X_test = scaler_test.fit_transform(X_test)"
   ]
  },
  {
   "cell_type": "code",
   "execution_count": 26,
   "metadata": {},
   "outputs": [
    {
     "name": "stdout",
     "output_type": "stream",
     "text": [
      "Model : LogisticRegression(max_iter=1000)\n",
      "              precision    recall  f1-score   support\n",
      "\n",
      "           0       0.74      0.96      0.84      8241\n",
      "           1       0.51      0.11      0.18      3061\n",
      "\n",
      "    accuracy                           0.73     11302\n",
      "   macro avg       0.62      0.54      0.51     11302\n",
      "weighted avg       0.68      0.73      0.66     11302\n",
      "\n",
      "[[7910  331]\n",
      " [2722  339]]\n",
      "---------------------------------------------------------------\n",
      "Model : KNeighborsClassifier()\n",
      "              precision    recall  f1-score   support\n",
      "\n",
      "           0       0.79      0.88      0.84      8241\n",
      "           1       0.55      0.39      0.45      3061\n",
      "\n",
      "    accuracy                           0.75     11302\n",
      "   macro avg       0.67      0.63      0.65     11302\n",
      "weighted avg       0.73      0.75      0.73     11302\n",
      "\n",
      "[[7287  954]\n",
      " [1881 1180]]\n",
      "---------------------------------------------------------------\n",
      "Model : RandomForestClassifier(random_state=33)\n",
      "              precision    recall  f1-score   support\n",
      "\n",
      "           0       0.86      0.99      0.92      8241\n",
      "           1       0.97      0.56      0.71      3061\n",
      "\n",
      "    accuracy                           0.88     11302\n",
      "   macro avg       0.92      0.78      0.82     11302\n",
      "weighted avg       0.89      0.88      0.86     11302\n",
      "\n",
      "[[8197   44]\n",
      " [1355 1706]]\n",
      "---------------------------------------------------------------\n",
      "Model : XGBClassifier(base_score=0.5, booster='gbtree', callbacks=None,\n",
      "              colsample_bylevel=1, colsample_bynode=1, colsample_bytree=1,\n",
      "              early_stopping_rounds=None, enable_categorical=False,\n",
      "              eval_metric=None, feature_types=None, gamma=0, gpu_id=-1,\n",
      "              grow_policy='depthwise', importance_type=None,\n",
      "              interaction_constraints='', learning_rate=0.300000012,\n",
      "              max_bin=256, max_cat_threshold=64, max_cat_to_onehot=4,\n",
      "              max_delta_step=0, max_depth=6, max_leaves=0, min_child_weight=1,\n",
      "              missing=nan, monotone_constraints='()', n_estimators=100,\n",
      "              n_jobs=0, num_parallel_tree=1, predictor='auto', random_state=0, ...)\n",
      "              precision    recall  f1-score   support\n",
      "\n",
      "           0       0.78      0.94      0.85      8241\n",
      "           1       0.64      0.26      0.37      3061\n",
      "\n",
      "    accuracy                           0.76     11302\n",
      "   macro avg       0.71      0.60      0.61     11302\n",
      "weighted avg       0.74      0.76      0.72     11302\n",
      "\n",
      "[[7780  461]\n",
      " [2257  804]]\n",
      "---------------------------------------------------------------\n",
      "Model : AdaBoostClassifier()\n",
      "              precision    recall  f1-score   support\n",
      "\n",
      "           0       0.74      0.97      0.84      8241\n",
      "           1       0.51      0.08      0.14      3061\n",
      "\n",
      "    accuracy                           0.73     11302\n",
      "   macro avg       0.63      0.53      0.49     11302\n",
      "weighted avg       0.68      0.73      0.65     11302\n",
      "\n",
      "[[8003  238]\n",
      " [2810  251]]\n",
      "---------------------------------------------------------------\n"
     ]
    }
   ],
   "source": [
    "for model_a in models:\n",
    "        model = model_a\n",
    "        model.fit(scaled_X_train,y_train.values.ravel())\n",
    "        y_pred = model.predict(scaled_X_test)\n",
    "        print('Model :',model_a)\n",
    "        print(classification_report(y_test, y_pred))\n",
    "        print(confusion_matrix(y_test, y_pred))\n",
    "        print('---------------------------------------------------------------')"
   ]
  },
  {
   "cell_type": "markdown",
   "metadata": {},
   "source": [
    "Estudiar bien que hacer aqui"
   ]
  }
 ],
 "metadata": {
  "kernelspec": {
   "display_name": "Python 3",
   "language": "python",
   "name": "python3"
  },
  "language_info": {
   "codemirror_mode": {
    "name": "ipython",
    "version": 3
   },
   "file_extension": ".py",
   "mimetype": "text/x-python",
   "name": "python",
   "nbconvert_exporter": "python",
   "pygments_lexer": "ipython3",
   "version": "3.8.5"
  }
 },
 "nbformat": 4,
 "nbformat_minor": 4
}
