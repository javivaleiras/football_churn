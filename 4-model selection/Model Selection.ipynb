{
 "cells": [
  {
   "cell_type": "code",
   "execution_count": 1,
   "metadata": {},
   "outputs": [],
   "source": [
    "import pandas as pd\n",
    "import numpy as np\n",
    "import seaborn as sns\n",
    "pd.set_option('display.max_columns', None)"
   ]
  },
  {
   "cell_type": "code",
   "execution_count": 2,
   "metadata": {},
   "outputs": [],
   "source": [
    "df = pd.read_csv('../data/processed_players.csv')"
   ]
  },
  {
   "cell_type": "code",
   "execution_count": 3,
   "metadata": {},
   "outputs": [
    {
     "name": "stdout",
     "output_type": "stream",
     "text": [
      "<class 'pandas.core.frame.DataFrame'>\n",
      "RangeIndex: 56510 entries, 0 to 56509\n",
      "Data columns (total 34 columns):\n",
      " #   Column            Non-Null Count  Dtype  \n",
      "---  ------            --------------  -----  \n",
      " 0   club              56510 non-null  object \n",
      " 1   age               56510 non-null  int64  \n",
      " 2   position          56510 non-null  object \n",
      " 3   mins              56510 non-null  int64  \n",
      " 4   goals             56510 non-null  float64\n",
      " 5   assists           56510 non-null  float64\n",
      " 6   motm              56510 non-null  float64\n",
      " 7   rating            56510 non-null  float64\n",
      " 8   league            56510 non-null  object \n",
      " 9   traded            56510 non-null  int64  \n",
      " 10  w_shots           56510 non-null  float64\n",
      " 11  w_yel             56510 non-null  float64\n",
      " 12  w_red             56510 non-null  float64\n",
      " 13  w_aerials_won     56510 non-null  float64\n",
      " 14  w_tackles         56510 non-null  float64\n",
      " 15  w_interceptions   56510 non-null  float64\n",
      " 16  w_fouls           56510 non-null  float64\n",
      " 17  w_offsides_won    56510 non-null  float64\n",
      " 18  w_clearances      56510 non-null  float64\n",
      " 19  w_dribbled        56510 non-null  float64\n",
      " 20  w_blocks          56510 non-null  float64\n",
      " 21  w_own_goals       56510 non-null  float64\n",
      " 22  w_key_passes      56510 non-null  float64\n",
      " 23  w_dribblings      56510 non-null  float64\n",
      " 24  w_fouled          56510 non-null  float64\n",
      " 25  w_offsides        56510 non-null  float64\n",
      " 26  w_dispossed       56510 non-null  float64\n",
      " 27  w_bad_controls    56510 non-null  float64\n",
      " 28  w_avg_passes      56510 non-null  float64\n",
      " 29  w_crosses         56510 non-null  float64\n",
      " 30  w_long_passes     56510 non-null  float64\n",
      " 31  w_through_passes  56510 non-null  float64\n",
      " 32  w_ps_avg_passes   56510 non-null  float64\n",
      " 33  apps_cat          56510 non-null  int64  \n",
      "dtypes: float64(27), int64(4), object(3)\n",
      "memory usage: 14.7+ MB\n"
     ]
    }
   ],
   "source": [
    "df.info()"
   ]
  },
  {
   "cell_type": "markdown",
   "metadata": {},
   "source": [
    "We have to encode the categorical data, I will use one hot encoding"
   ]
  },
  {
   "cell_type": "code",
   "execution_count": 4,
   "metadata": {},
   "outputs": [],
   "source": [
    "# To float\n",
    "to_float = df.select_dtypes(include=\"float64\").columns\n",
    "\n",
    "for x in to_float:\n",
    "    df[x] = df[x].astype(\"float16\")\n",
    "    \n"
   ]
  },
  {
   "cell_type": "code",
   "execution_count": 6,
   "metadata": {},
   "outputs": [],
   "source": [
    "df= pd.get_dummies(df, columns = ['club','position','league','apps_cat'])\n",
    "# Delete n - 1\n",
    "df = df.drop(['apps_cat_10','league_Premier League','position_MIDFIELDER','club_Wolfsburg'],axis=1)"
   ]
  },
  {
   "cell_type": "markdown",
   "metadata": {},
   "source": [
    "I will use min max scaler to scale down the data but first I will split the data into train and test so the scaler of train data doesn´t affect test data.\n",
    "\n",
    "I will use a 85-15 because we dont have a lot of data so I want to use as much as possible to train the model. Since we have an imbalanced data, we will stratify y."
   ]
  },
  {
   "cell_type": "code",
   "execution_count": 53,
   "metadata": {},
   "outputs": [],
   "source": [
    "from sklearn.model_selection import train_test_split\n",
    "from imblearn.over_sampling import SMOTE\n",
    "X = df.loc[:,df.columns != 'traded'].copy()\n",
    "y = df.loc[:,df.columns == 'traded'].copy()\n",
    "oversample = SMOTE()\n",
    "X, y = oversample.fit_resample(X, y)\n",
    "X_train, X_test,y_train, y_test = train_test_split(X,y,random_state=33,test_size=0.2,shuffle=True)"
   ]
  },
  {
   "cell_type": "code",
   "execution_count": 54,
   "metadata": {},
   "outputs": [],
   "source": [
    "from sklearn.preprocessing import MinMaxScaler\n",
    "\n",
    "scaler_train = MinMaxScaler()\n",
    "scaled_X_train = scaler_train.fit_transform(X_train)\n",
    "\n",
    "\n",
    "scaler_test = MinMaxScaler()\n",
    "scaled_X_test = scaler_test.fit_transform(X_test)"
   ]
  },
  {
   "cell_type": "code",
   "execution_count": 55,
   "metadata": {},
   "outputs": [],
   "source": [
    "X_train = pd.DataFrame(scaled_X_train,columns=X_train.columns)\n",
    "X_test = pd.DataFrame(scaled_X_test,columns=X_test.columns)"
   ]
  },
  {
   "cell_type": "code",
   "execution_count": 56,
   "metadata": {},
   "outputs": [],
   "source": [
    "import xgboost as xgb\n",
    "from sklearn.model_selection import cross_val_score\n",
    "from sklearn.model_selection import RepeatedStratifiedKFold\n",
    "model = xgb.XGBClassifier()\n",
    "model.fit(X_train, y_train)\n",
    "y_pred = model.predict(X_test)\n",
    "\n"
   ]
  },
  {
   "cell_type": "code",
   "execution_count": 57,
   "metadata": {},
   "outputs": [
    {
     "name": "stdout",
     "output_type": "stream",
     "text": [
      "              precision    recall  f1-score   support\n",
      "\n",
      "           0       0.77      0.88      0.82      8269\n",
      "           1       0.86      0.74      0.80      8213\n",
      "\n",
      "    accuracy                           0.81     16482\n",
      "   macro avg       0.82      0.81      0.81     16482\n",
      "weighted avg       0.82      0.81      0.81     16482\n",
      "\n",
      "[[7254 1015]\n",
      " [2119 6094]]\n"
     ]
    }
   ],
   "source": [
    "print(classification_report(y_test,y_pred))\n",
    "print(confusion_matrix(y_test,y_pred))\n",
    "\n"
   ]
  }
 ],
 "metadata": {
  "kernelspec": {
   "display_name": "Python 3",
   "language": "python",
   "name": "python3"
  },
  "language_info": {
   "codemirror_mode": {
    "name": "ipython",
    "version": 3
   },
   "file_extension": ".py",
   "mimetype": "text/x-python",
   "name": "python",
   "nbconvert_exporter": "python",
   "pygments_lexer": "ipython3",
   "version": "3.8.5"
  }
 },
 "nbformat": 4,
 "nbformat_minor": 4
}
